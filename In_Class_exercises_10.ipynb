{
  "nbformat": 4,
  "nbformat_minor": 0,
  "metadata": {
    "kernelspec": {
      "display_name": "Python 3",
      "language": "python",
      "name": "python3"
    },
    "language_info": {
      "codemirror_mode": {
        "name": "ipython",
        "version": 3
      },
      "file_extension": ".py",
      "mimetype": "text/x-python",
      "name": "python",
      "nbconvert_exporter": "python",
      "pygments_lexer": "ipython3",
      "version": "3.8.5"
    },
    "colab": {
      "name": "In_Class_exercises-10.ipynb",
      "provenance": [],
      "include_colab_link": true
    }
  },
  "cells": [
    {
      "cell_type": "markdown",
      "metadata": {
        "id": "view-in-github",
        "colab_type": "text"
      },
      "source": [
        "<a href=\"https://colab.research.google.com/github/hariprasad7/hari_INFO5731_Spring2021/blob/main/In_Class_exercises_10.ipynb\" target=\"_parent\"><img src=\"https://colab.research.google.com/assets/colab-badge.svg\" alt=\"Open In Colab\"/></a>"
      ]
    },
    {
      "cell_type": "markdown",
      "metadata": {
        "id": "6NRSg_0XKLnS"
      },
      "source": [
        "# In class exercise 10 (20 points in total, 4/16/2021)"
      ]
    },
    {
      "cell_type": "markdown",
      "metadata": {
        "id": "TuyWugrTKLnh"
      },
      "source": [
        "The purpose of the exercise is to practice different machine learning algorithms for text clustering\n",
        "Please downlad the dataset by using the following link.  https://www.kaggle.com/PromptCloudHQ/amazon-reviews-unlocked-mobile-phones\n",
        "(You can also use different text data which you want)\n",
        "\n",
        "Apply the listed clustering methods to the dataset:\n",
        "\n",
        "K means, \n",
        "DBSCAN,\n",
        "Hierarchical clustering. \n",
        "\n",
        "You can refer to of the codes from  the follwing link below. \n",
        "https://www.kaggle.com/karthik3890/text-clustering \n",
        "    "
      ]
    },
    {
      "cell_type": "code",
      "metadata": {
        "colab": {
          "base_uri": "https://localhost:8080/"
        },
        "id": "vUfGIYNvKLnj",
        "outputId": "1c9b2153-49c7-4d88-d908-5a445eaba6ef"
      },
      "source": [
        "import pandas as pd\n",
        "import gensim\n",
        "df=pd.read_csv(\"/content/Amazon_Unlocked_Mobile.csv\")\n",
        "import nltk\n",
        "nltk.download('punkt')\n",
        "from nltk.corpus import stopwords\n",
        "nltk.download('stopwords')\n",
        "from textblob import Word\n",
        "nltk.download('wordnet')\n",
        "from nltk.stem import PorterStemmer\n",
        "st = PorterStemmer()\n",
        "df = df[df['Reviews'].notnull()]\n",
        "stop = stopwords.words('english')\n",
        "df['after_punct_less'] = df['Reviews'].str.replace('[^\\w\\s].#','')\n",
        "df['after_rm_stopwords'] =df['after_punct_less'].apply(lambda x: \" \".join(x for x in x.split() if x not in stop))\n",
        "df['after_numerics']=df['after_rm_stopwords'].str.replace('[0-9]','')\n",
        "df['after_lowercasing'] =df['after_numerics'].apply(lambda x: \" \".join(x.lower() for x in x.split()))\n",
        "\n",
        "df['after_stemming']=df['after_lowercasing'].apply(lambda x: \" \".join([st.stem(word) for word in x.split()]))\n",
        "df['cleaned_text'] = df['after_stemming'].apply(lambda x: \" \".join([Word(word).lemmatize() for word in x.split()]))\n",
        "df['cleaned_text']"
      ],
      "execution_count": 1,
      "outputs": [
        {
          "output_type": "stream",
          "text": [
            "[nltk_data] Downloading package punkt to /root/nltk_data...\n",
            "[nltk_data]   Unzipping tokenizers/punkt.zip.\n",
            "[nltk_data] Downloading package stopwords to /root/nltk_data...\n",
            "[nltk_data]   Unzipping corpora/stopwords.zip.\n",
            "[nltk_data] Downloading package wordnet to /root/nltk_data...\n",
            "[nltk_data]   Unzipping corpora/wordnet.zip.\n"
          ],
          "name": "stdout"
        },
        {
          "output_type": "execute_result",
          "data": {
            "text/plain": [
              "0         i feel lucki found use (phone u & use hard all...\n",
              "1         nice phone, nice grade pantach revue. veri cle...\n",
              "2                                                 veri plea\n",
              "3           it work good goe slow sometim good phone i love\n",
              "4         great phone replac lost phone. the thing volum...\n",
              "                                ...                        \n",
              "413835                         anoth great deal great price\n",
              "413836                                                   ok\n",
              "413837             pas everi drop test onto porcelain tile!\n",
              "413838          i return meet need seem good select others.\n",
              "413839    onli downsid appar verizon longer use v-cast m...\n",
              "Name: cleaned_text, Length: 413778, dtype: object"
            ]
          },
          "metadata": {
            "tags": []
          },
          "execution_count": 1
        }
      ]
    },
    {
      "cell_type": "code",
      "metadata": {
        "colab": {
          "base_uri": "https://localhost:8080/"
        },
        "id": "symWOePqTCVM",
        "outputId": "a39b120f-d4fc-48c1-9c6f-548a59b22ffc"
      },
      "source": [
        "df_1=(df.sample(n=4000)).reset_index()\n",
        "from sklearn.feature_extraction.text import TfidfVectorizer\n",
        "tfidf_vect = TfidfVectorizer()\n",
        "tfidf = tfidf_vect.fit_transform(df_1['cleaned_text'].values)\n",
        "tfidf.shape\n",
        "\n",
        "from sklearn.cluster import KMeans\n",
        "model_tf = KMeans(n_clusters = 5, n_jobs = -1,random_state=99)\n",
        "model_tf.fit(tfidf)"
      ],
      "execution_count": 2,
      "outputs": [
        {
          "output_type": "execute_result",
          "data": {
            "text/plain": [
              "KMeans(algorithm='auto', copy_x=True, init='k-means++', max_iter=300,\n",
              "       n_clusters=5, n_init=10, n_jobs=-1, precompute_distances='auto',\n",
              "       random_state=99, tol=0.0001, verbose=0)"
            ]
          },
          "metadata": {
            "tags": []
          },
          "execution_count": 2
        }
      ]
    },
    {
      "cell_type": "code",
      "metadata": {
        "colab": {
          "base_uri": "https://localhost:8080/",
          "height": 498
        },
        "id": "Y_FyICU1UQZ5",
        "outputId": "a194a3f3-9849-4f33-e4f6-8222d6b3eefe"
      },
      "source": [
        "labels_tf = model_tf.labels_\n",
        "cluster_center_tf=model_tf.cluster_centers_\n",
        "terms = tfidf_vect.get_feature_names()\n",
        "terms[1:5]\n",
        "df_2 = df_1\n",
        "df_2['Tfidf Clus Label'] = model_tf.labels_\n",
        "df_2.head(5)"
      ],
      "execution_count": 3,
      "outputs": [
        {
          "output_type": "execute_result",
          "data": {
            "text/html": [
              "<div>\n",
              "<style scoped>\n",
              "    .dataframe tbody tr th:only-of-type {\n",
              "        vertical-align: middle;\n",
              "    }\n",
              "\n",
              "    .dataframe tbody tr th {\n",
              "        vertical-align: top;\n",
              "    }\n",
              "\n",
              "    .dataframe thead th {\n",
              "        text-align: right;\n",
              "    }\n",
              "</style>\n",
              "<table border=\"1\" class=\"dataframe\">\n",
              "  <thead>\n",
              "    <tr style=\"text-align: right;\">\n",
              "      <th></th>\n",
              "      <th>index</th>\n",
              "      <th>Product Name</th>\n",
              "      <th>Brand Name</th>\n",
              "      <th>Price</th>\n",
              "      <th>Rating</th>\n",
              "      <th>Reviews</th>\n",
              "      <th>Review Votes</th>\n",
              "      <th>after_punct_less</th>\n",
              "      <th>after_rm_stopwords</th>\n",
              "      <th>after_numerics</th>\n",
              "      <th>after_lowercasing</th>\n",
              "      <th>after_stemming</th>\n",
              "      <th>cleaned_text</th>\n",
              "      <th>Tfidf Clus Label</th>\n",
              "    </tr>\n",
              "  </thead>\n",
              "  <tbody>\n",
              "    <tr>\n",
              "      <th>0</th>\n",
              "      <td>58331</td>\n",
              "      <td>Apple iPhone 6 Plus Factory Unlocked Cellphone...</td>\n",
              "      <td>Apple</td>\n",
              "      <td>605.00</td>\n",
              "      <td>1</td>\n",
              "      <td>16gb is not enough, you find out after about 1...</td>\n",
              "      <td>3.0</td>\n",
              "      <td>16gb is not enough, you find out after about 1...</td>\n",
              "      <td>16gb enough, find 1 month, cant return exchang...</td>\n",
              "      <td>gb enough, find  month, cant return exchange i...</td>\n",
              "      <td>gb enough, find month, cant return exchange it...</td>\n",
              "      <td>gb enough, find month, cant return exchang it!...</td>\n",
              "      <td>gb enough, find month, cant return exchang it!...</td>\n",
              "      <td>1</td>\n",
              "    </tr>\n",
              "    <tr>\n",
              "      <th>1</th>\n",
              "      <td>137650</td>\n",
              "      <td>BLU Studio 5.0 C HD Unlocked Cellphone, Black</td>\n",
              "      <td>BLU</td>\n",
              "      <td>173.44</td>\n",
              "      <td>2</td>\n",
              "      <td>This phone has nice features, but does not hav...</td>\n",
              "      <td>0.0</td>\n",
              "      <td>This phone has nice features, but does not hav...</td>\n",
              "      <td>This phone nice features, storage space claims...</td>\n",
              "      <td>This phone nice features, storage space claims...</td>\n",
              "      <td>this phone nice features, storage space claims...</td>\n",
              "      <td>thi phone nice features, storag space claims. ...</td>\n",
              "      <td>thi phone nice features, storag space claims. ...</td>\n",
              "      <td>1</td>\n",
              "    </tr>\n",
              "    <tr>\n",
              "      <th>2</th>\n",
              "      <td>400484</td>\n",
              "      <td>Studio 5.0 E Quad Band Unlocked (White) (Disco...</td>\n",
              "      <td>BLU</td>\n",
              "      <td>104.99</td>\n",
              "      <td>5</td>\n",
              "      <td>excellent article, the best price and delivery...</td>\n",
              "      <td>1.0</td>\n",
              "      <td>excellent article, the best price and delivery...</td>\n",
              "      <td>excellent article, best price delivery time fa...</td>\n",
              "      <td>excellent article, best price delivery time fa...</td>\n",
              "      <td>excellent article, best price delivery time fa...</td>\n",
              "      <td>excel article, best price deliveri time fast r...</td>\n",
              "      <td>excel article, best price deliveri time fast r...</td>\n",
              "      <td>1</td>\n",
              "    </tr>\n",
              "    <tr>\n",
              "      <th>3</th>\n",
              "      <td>275060</td>\n",
              "      <td>Nokia Lumia 920 32GB Unlocked GSM Windows 8 Sm...</td>\n",
              "      <td>NaN</td>\n",
              "      <td>99.99</td>\n",
              "      <td>5</td>\n",
              "      <td>Excellent cellphone! I didn't find any issues ...</td>\n",
              "      <td>0.0</td>\n",
              "      <td>Excellent cellphone! I didn't find any issues ...</td>\n",
              "      <td>Excellent cellphone! I find issues far. I thou...</td>\n",
              "      <td>Excellent cellphone! I find issues far. I thou...</td>\n",
              "      <td>excellent cellphone! i find issues far. i thou...</td>\n",
              "      <td>excel cellphone! i find issu far. i thought wo...</td>\n",
              "      <td>excel cellphone! i find issu far. i thought wo...</td>\n",
              "      <td>1</td>\n",
              "    </tr>\n",
              "    <tr>\n",
              "      <th>4</th>\n",
              "      <td>345122</td>\n",
              "      <td>Samsung Galaxy S4 Mini I257 16GB Unlocked GSM ...</td>\n",
              "      <td>Samsung</td>\n",
              "      <td>84.95</td>\n",
              "      <td>4</td>\n",
              "      <td>Really great phone. I couldn't believe it work...</td>\n",
              "      <td>3.0</td>\n",
              "      <td>Really great phone. I couldn't believe it work...</td>\n",
              "      <td>Really great phone. I believe worked t-mobile ...</td>\n",
              "      <td>Really great phone. I believe worked t-mobile ...</td>\n",
              "      <td>really great phone. i believe worked t-mobile ...</td>\n",
              "      <td>realli great phone. i believ work t-mobil sim ...</td>\n",
              "      <td>realli great phone. i believ work t-mobil sim ...</td>\n",
              "      <td>1</td>\n",
              "    </tr>\n",
              "  </tbody>\n",
              "</table>\n",
              "</div>"
            ],
            "text/plain": [
              "    index  ... Tfidf Clus Label\n",
              "0   58331  ...                1\n",
              "1  137650  ...                1\n",
              "2  400484  ...                1\n",
              "3  275060  ...                1\n",
              "4  345122  ...                1\n",
              "\n",
              "[5 rows x 14 columns]"
            ]
          },
          "metadata": {
            "tags": []
          },
          "execution_count": 3
        }
      ]
    },
    {
      "cell_type": "code",
      "metadata": {
        "colab": {
          "base_uri": "https://localhost:8080/"
        },
        "id": "8SX3IkLtUqSK",
        "outputId": "e59a14aa-6207-4796-c7c1-8bbab4e81d17"
      },
      "source": [
        "df_2.groupby(['Tfidf Clus Label'])['cleaned_text'].count()"
      ],
      "execution_count": 4,
      "outputs": [
        {
          "output_type": "execute_result",
          "data": {
            "text/plain": [
              "Tfidf Clus Label\n",
              "0     206\n",
              "1    3213\n",
              "2     160\n",
              "3     250\n",
              "4     171\n",
              "Name: cleaned_text, dtype: int64"
            ]
          },
          "metadata": {
            "tags": []
          },
          "execution_count": 4
        }
      ]
    },
    {
      "cell_type": "code",
      "metadata": {
        "colab": {
          "base_uri": "https://localhost:8080/"
        },
        "id": "FQTnnjhEUy3c",
        "outputId": "495e6dc3-aca2-4916-c671-67d2503e8402"
      },
      "source": [
        "print(\"Top terms per cluster:\")\n",
        "order_centroids = model_tf.cluster_centers_.argsort()[:, ::-1]\n",
        "for i in range(1,5):\n",
        "    print(\"Cluster %d:\" % i, end='')\n",
        "    for ind in order_centroids[i, :5]:\n",
        "        print(' %s' % terms[ind], end='')\n",
        "        print()"
      ],
      "execution_count": 6,
      "outputs": [
        {
          "output_type": "stream",
          "text": [
            "Top terms per cluster:\n",
            "Cluster 1: phone\n",
            " it\n",
            " work\n",
            " the\n",
            " use\n",
            "Cluster 2: love\n",
            " it\n",
            " phone\n",
            " great\n",
            " thank\n",
            "Cluster 3: great\n",
            " phone\n",
            " work\n",
            " product\n",
            " price\n",
            "Cluster 4: good\n",
            " veri\n",
            " product\n",
            " phone\n",
            " it\n"
          ],
          "name": "stdout"
        }
      ]
    },
    {
      "cell_type": "code",
      "metadata": {
        "colab": {
          "base_uri": "https://localhost:8080/"
        },
        "id": "qYUmFWSUVL_a",
        "outputId": "9c5bed98-d952-413d-dde6-3898bcbfff95"
      },
      "source": [
        "from sklearn.cluster import DBSCAN\n",
        "import numpy as np\n",
        "import matplotlib.pyplot as plt\n",
        "import gensim\n",
        "i=0\n",
        "list_of_sent=[]\n",
        "for sent in df_1['cleaned_text'].values:\n",
        "    list_of_sent.append(sent.split())\n",
        "w2v_model=gensim.models.Word2Vec(list_of_sent,size=100, workers=4)\n",
        "import numpy as np\n",
        "sent_vectors = [];\n",
        "for sent in list_of_sent:\n",
        "    sent_vec = np.zeros(100)\n",
        "    cnt_words =0;\n",
        "    for word in sent:\n",
        "        try:\n",
        "            vec = w2v_model.wv[word]\n",
        "            sent_vec += vec\n",
        "            cnt_words += 1\n",
        "        except:\n",
        "            pass\n",
        "    sent_vec /= cnt_words\n",
        "    sent_vectors.append(sent_vec)\n",
        "sent_vectors = np.array(sent_vectors)\n",
        "sent_vectors = np.nan_to_num(sent_vectors)\n",
        "sent_vectors.shape"
      ],
      "execution_count": 7,
      "outputs": [
        {
          "output_type": "stream",
          "text": [
            "/usr/local/lib/python3.7/dist-packages/ipykernel_launcher.py:22: RuntimeWarning: invalid value encountered in true_divide\n"
          ],
          "name": "stderr"
        },
        {
          "output_type": "execute_result",
          "data": {
            "text/plain": [
              "(4000, 100)"
            ]
          },
          "metadata": {
            "tags": []
          },
          "execution_count": 7
        }
      ]
    },
    {
      "cell_type": "code",
      "metadata": {
        "colab": {
          "base_uri": "https://localhost:8080/",
          "height": 274
        },
        "id": "Vg80TDI-XRyT",
        "outputId": "e2b72712-de2f-4668-fbac-21bda461f18a"
      },
      "source": [
        "minPts = 2 * 100\n",
        "model = DBSCAN(eps = 8, min_samples = minPts, n_jobs=-2)\n",
        "model.fit(sent_vectors)\n",
        "df_1['AVG-W2V Clus Label'] = model.labels_\n",
        "df_1.head(2)"
      ],
      "execution_count": 16,
      "outputs": [
        {
          "output_type": "execute_result",
          "data": {
            "text/html": [
              "<div>\n",
              "<style scoped>\n",
              "    .dataframe tbody tr th:only-of-type {\n",
              "        vertical-align: middle;\n",
              "    }\n",
              "\n",
              "    .dataframe tbody tr th {\n",
              "        vertical-align: top;\n",
              "    }\n",
              "\n",
              "    .dataframe thead th {\n",
              "        text-align: right;\n",
              "    }\n",
              "</style>\n",
              "<table border=\"1\" class=\"dataframe\">\n",
              "  <thead>\n",
              "    <tr style=\"text-align: right;\">\n",
              "      <th></th>\n",
              "      <th>index</th>\n",
              "      <th>Product Name</th>\n",
              "      <th>Brand Name</th>\n",
              "      <th>Price</th>\n",
              "      <th>Rating</th>\n",
              "      <th>Reviews</th>\n",
              "      <th>Review Votes</th>\n",
              "      <th>after_punct_less</th>\n",
              "      <th>after_rm_stopwords</th>\n",
              "      <th>after_numerics</th>\n",
              "      <th>after_lowercasing</th>\n",
              "      <th>after_stemming</th>\n",
              "      <th>cleaned_text</th>\n",
              "      <th>Tfidf Clus Label</th>\n",
              "      <th>AVG-W2V Clus Label</th>\n",
              "    </tr>\n",
              "  </thead>\n",
              "  <tbody>\n",
              "    <tr>\n",
              "      <th>0</th>\n",
              "      <td>58331</td>\n",
              "      <td>Apple iPhone 6 Plus Factory Unlocked Cellphone...</td>\n",
              "      <td>Apple</td>\n",
              "      <td>605.00</td>\n",
              "      <td>1</td>\n",
              "      <td>16gb is not enough, you find out after about 1...</td>\n",
              "      <td>3.0</td>\n",
              "      <td>16gb is not enough, you find out after about 1...</td>\n",
              "      <td>16gb enough, find 1 month, cant return exchang...</td>\n",
              "      <td>gb enough, find  month, cant return exchange i...</td>\n",
              "      <td>gb enough, find month, cant return exchange it...</td>\n",
              "      <td>gb enough, find month, cant return exchang it!...</td>\n",
              "      <td>gb enough, find month, cant return exchang it!...</td>\n",
              "      <td>1</td>\n",
              "      <td>0</td>\n",
              "    </tr>\n",
              "    <tr>\n",
              "      <th>1</th>\n",
              "      <td>137650</td>\n",
              "      <td>BLU Studio 5.0 C HD Unlocked Cellphone, Black</td>\n",
              "      <td>BLU</td>\n",
              "      <td>173.44</td>\n",
              "      <td>2</td>\n",
              "      <td>This phone has nice features, but does not hav...</td>\n",
              "      <td>0.0</td>\n",
              "      <td>This phone has nice features, but does not hav...</td>\n",
              "      <td>This phone nice features, storage space claims...</td>\n",
              "      <td>This phone nice features, storage space claims...</td>\n",
              "      <td>this phone nice features, storage space claims...</td>\n",
              "      <td>thi phone nice features, storag space claims. ...</td>\n",
              "      <td>thi phone nice features, storag space claims. ...</td>\n",
              "      <td>1</td>\n",
              "      <td>0</td>\n",
              "    </tr>\n",
              "  </tbody>\n",
              "</table>\n",
              "</div>"
            ],
            "text/plain": [
              "    index  ... AVG-W2V Clus Label\n",
              "0   58331  ...                  0\n",
              "1  137650  ...                  0\n",
              "\n",
              "[2 rows x 15 columns]"
            ]
          },
          "metadata": {
            "tags": []
          },
          "execution_count": 16
        }
      ]
    },
    {
      "cell_type": "code",
      "metadata": {
        "colab": {
          "base_uri": "https://localhost:8080/"
        },
        "id": "cany_1HTXbhO",
        "outputId": "578a09ed-d399-41e6-fe0a-763761828b59"
      },
      "source": [
        "from sklearn.cluster import AgglomerativeClustering\n",
        "\n",
        "cluster = AgglomerativeClustering(n_clusters=7, affinity='euclidean', linkage='ward')  \n",
        "Agg=cluster.fit_predict(sent_vectors)\n",
        "df_1['AVG-W2V Clus Label'] = cluster.labels_\n",
        "df_1.head(2)\n",
        "df_1.groupby(['AVG-W2V Clus Label'])['cleaned_text'].count()\n",
        "for i in range(5):\n",
        "    print(\"Example of 2 reviews assigned to cluster \", i)\n",
        "    print(\"-\" * 70)\n",
        "    print(df_1.iloc[df_1.groupby(['AVG-W2V Clus Label']).groups[i][0]]['cleaned_text'])\n",
        "    print('\\n')\n",
        "    print(df_1.iloc[df_1.groupby(['AVG-W2V Clus Label']).groups[i][1]]['cleaned_text'])\n",
        "    print('\\n')\n",
        "    print(\"_\" * 70)"
      ],
      "execution_count": 17,
      "outputs": [
        {
          "output_type": "stream",
          "text": [
            "Example of 2 reviews assigned to cluster  0\n",
            "----------------------------------------------------------------------\n",
            "gb enough, find month, cant return exchang it!!! mad\n",
            "\n",
            "\n",
            "wonder\n",
            "\n",
            "\n",
            "______________________________________________________________________\n",
            "Example of 2 reviews assigned to cluster  1\n",
            "----------------------------------------------------------------------\n",
            "excellen\n",
            "\n",
            "\n",
            "fate\n",
            "\n",
            "\n",
            "______________________________________________________________________\n",
            "Example of 2 reviews assigned to cluster  2\n",
            "----------------------------------------------------------------------\n",
            "excel cellphone! i find issu far. i thought would come headphon .\n",
            "\n",
            "\n",
            "realli great phone. i believ work t-mobil sim card came android . pre-installed. the fact gb free memori also made best phone i ever had! take one star away screen got slightli scratch tri clean it. i never phone sensit screen, i immedi bought pack ot screen protectors. otherwise, great phone!\n",
            "\n",
            "\n",
            "______________________________________________________________________\n",
            "Example of 2 reviews assigned to cluster  3\n",
            "----------------------------------------------------------------------\n",
            "work great good camera run smoothli work carrier perfectli even t-mobil suck gener\n",
            "\n",
            "\n",
            "i bb month sinc purchas i disappointed. it ship \"dented\" batteri appear someth wrong phone - hardwar software, i sure. i buy new batteri legit bb store i return canada weeks. the phone run charg within min full charge. on batteri power, phone cycl random re-boots. the document phone english arabic. the cord plug primarili non-american plugs. the accessori white black (which colour phone realli match) i use i procur \"real\" bb bb websit directly.aft said done, i paid $ devic cost $, i guess, i got i paid for. anyway, cost new batteri versu $+ legit bb real store, you decid price worth it.\n",
            "\n",
            "\n",
            "______________________________________________________________________\n",
            "Example of 2 reviews assigned to cluster  4\n",
            "----------------------------------------------------------------------\n",
            "excel article, best price deliveri time fast recommend\n",
            "\n",
            "\n",
            "great phone\n",
            "\n",
            "\n",
            "______________________________________________________________________\n"
          ],
          "name": "stdout"
        }
      ]
    },
    {
      "cell_type": "markdown",
      "metadata": {
        "id": "2ylF3192KLnk"
      },
      "source": [
        "In one paragraph, please compare K means, DBSCAN and Hierarchical clustering. "
      ]
    },
    {
      "cell_type": "code",
      "metadata": {
        "colab": {
          "base_uri": "https://localhost:8080/",
          "height": 69
        },
        "id": "wIoS9wWwW7jq",
        "outputId": "a5a564f0-6f7c-483e-a0cf-35a899ec58c6"
      },
      "source": [
        "'''\n",
        "The k-means Clustering is a vector quantization method originating in signal processing that aims to partition of n observations into k clusters, with each observation belonging to the cluster with the nearest mean, which serves as the cluster's prototype. The results show that k-means are easier to comprehend than DBSCAN. Also missing values in the data set can be regulated by the DBSCAN. As Hierarchial clustering have lot of noise, we can say k-means are best and optimal.\n",
        "'''"
      ],
      "execution_count": 13,
      "outputs": [
        {
          "output_type": "execute_result",
          "data": {
            "application/vnd.google.colaboratory.intrinsic+json": {
              "type": "string"
            },
            "text/plain": [
              "\"\\nThe k-means Clustering is a vector quantization method originating in signal processing that aims to partition of n observations into k clusters, with each observation belonging to the cluster with the nearest mean, which serves as the cluster's prototype. The results show that k-means are easier to comprehend than DBSCAN. Also missing values in the data set can be regulated by the DBSCAN. As Hierarchial clustering have lot of noise, we can say k-means are best and optimal.\\n\""
            ]
          },
          "metadata": {
            "tags": []
          },
          "execution_count": 13
        }
      ]
    }
  ]
}