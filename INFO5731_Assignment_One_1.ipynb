{
  "nbformat": 4,
  "nbformat_minor": 0,
  "metadata": {
    "colab": {
      "name": "INFO5731_Assignment_One-1.ipynb",
      "provenance": [],
      "collapsed_sections": [],
      "include_colab_link": true
    },
    "kernelspec": {
      "display_name": "Python 3",
      "language": "python",
      "name": "python3"
    },
    "language_info": {
      "codemirror_mode": {
        "name": "ipython",
        "version": 3
      },
      "file_extension": ".py",
      "mimetype": "text/x-python",
      "name": "python",
      "nbconvert_exporter": "python",
      "pygments_lexer": "ipython3",
      "version": "3.7.4"
    }
  },
  "cells": [
    {
      "cell_type": "markdown",
      "metadata": {
        "id": "view-in-github",
        "colab_type": "text"
      },
      "source": [
        "<a href=\"https://colab.research.google.com/github/hariprasad7/hari_INFO5731_Spring2021/blob/main/INFO5731_Assignment_One_1.ipynb\" target=\"_parent\"><img src=\"https://colab.research.google.com/assets/colab-badge.svg\" alt=\"Open In Colab\"/></a>"
      ]
    },
    {
      "cell_type": "markdown",
      "metadata": {
        "id": "Ryk8D1Q4Wsrp"
      },
      "source": [
        "# **INFO5731 Assignment One**"
      ]
    },
    {
      "cell_type": "markdown",
      "metadata": {
        "id": "90_NR8c5XGWc"
      },
      "source": [
        "# Question 1\n",
        "\n",
        "(20 points). Write a Python program to generate 12 random numbers between 1 and 100. Sort the list of numbers in ascending order and print it out. Sort the list of numbers in descending order and print it out. Calculate the average for the group and print it out."
      ]
    },
    {
      "cell_type": "code",
      "metadata": {
        "id": "5QX6bJjGWXY9",
        "colab": {
          "base_uri": "https://localhost:8080/"
        },
        "outputId": "62ace9a8-966f-416a-9245-85540c825ca4"
      },
      "source": [
        "import random\n",
        "l=[]\n",
        "for i in range(12):\n",
        "  l.append(random.randint(1,100))\n",
        "l.sort()\n",
        "print(\"List of 12 Random numbers in ascending order is: {}\".format(l))\n",
        "l.sort(reverse=True)\n",
        "print(\"List of 12 Random numbers in descending order is: {}\".format(l))\n",
        "print(\"Average of selected 12 Random numbers is: {}\".format((sum(l)/12)))"
      ],
      "execution_count": null,
      "outputs": [
        {
          "output_type": "stream",
          "text": [
            "List of 12 Random numbers in ascending order is: [16, 17, 21, 22, 45, 50, 52, 83, 87, 89, 94, 99]\n",
            "List of 12 Random numbers in descending order is: [99, 94, 89, 87, 83, 52, 50, 45, 22, 21, 17, 16]\n",
            "Average of selected 12 Random numbers is: 56.25\n"
          ],
          "name": "stdout"
        }
      ]
    },
    {
      "cell_type": "markdown",
      "metadata": {
        "id": "1F_PZdH9Sh49"
      },
      "source": [
        "# Question 2\n",
        "(25 points). Write a program that will do the following string formatting tasks:\n",
        "\n",
        "(1) Ask the user to enter two sentences.\n",
        "\n",
        "(2) Make each sentence into a list. Each element in the list should correspond to a word in the sentence. For example, if the sentence is \"Alas! Am I alive? This is my first python program\", the program should print out ['Alas, '!', 'Am', 'I', 'alive, '?', 'This', 'is', 'my', 'first', 'python', 'program'].\n",
        "\n",
        "(3) Compare the two sentences. Print out a list of words that occur in both sentences.\n",
        "\n",
        "(4) Remove any punctuation from the sentence and print it back out. It should remove at least the following characters, but it can remove more: period(“.”), comma (“,”), semicolon (“;”), and colon (“:”)\n",
        "\n",
        "(5) Count the number of vowels in the sentences. Print out each vowel and the number of times it appears in the sentences, such as: a:2, e:1, i:0, etc"
      ]
    },
    {
      "cell_type": "code",
      "metadata": {
        "id": "Y0oOSlsOS0cq",
        "colab": {
          "base_uri": "https://localhost:8080/"
        },
        "outputId": "f2a4af91-63a2-4944-8ae7-e3090d743fe7"
      },
      "source": [
        "import re\n",
        "s1=input(\"Enter First sentence: \")\n",
        "s2=input(\"Enter Second sentence: \")\n",
        "print(\"List of sentence 1 is: {}\".format(re.findall(r\"[\\w']+|[!?]\",s1)))\n",
        "print(\"List of sentence 2 is: {}\".format(re.findall(r\"[\\w']+|[!?]\",s2)))"
      ],
      "execution_count": 48,
      "outputs": [
        {
          "output_type": "stream",
          "text": [
            "Enter First sentence: Alas! Am I alive? This is my first python program\n",
            "Enter Second sentence: UNT? is it!\n",
            "List of sentence 1 is: ['Alas', '!', 'Am', 'I', 'alive', '?', 'This', 'is', 'my', 'first', 'python', 'program']\n",
            "List of sentence 2 is: ['UNT', '?', 'is', 'it', '!']\n"
          ],
          "name": "stdout"
        }
      ]
    },
    {
      "cell_type": "code",
      "metadata": {
        "colab": {
          "base_uri": "https://localhost:8080/"
        },
        "id": "rEhzBMGUFMfx",
        "outputId": "6192135a-7ccc-4e4d-b65f-98f9ae12fa11"
      },
      "source": [
        "s1=input(\"Enter First sentence: \")\r\n",
        "s2=input(\"Enter Second sentence: \")\r\n",
        "l1=s1.split()\r\n",
        "l2=s2.split()\r\n",
        "l3=[]\r\n",
        "for i in l1:\r\n",
        "  for j in l2:\r\n",
        "    if i.lower()==j.lower():\r\n",
        "      l3.append(i)\r\n",
        "print(\"Common words in two sentences are: {}\".format(l3))"
      ],
      "execution_count": 49,
      "outputs": [
        {
          "output_type": "stream",
          "text": [
            "Enter First sentence: Alas! Am I alive? This is my first python program\n",
            "Enter Second sentence: This is second python \n",
            "Common words in two sentences are: ['This', 'is', 'python']\n"
          ],
          "name": "stdout"
        }
      ]
    },
    {
      "cell_type": "code",
      "metadata": {
        "colab": {
          "base_uri": "https://localhost:8080/"
        },
        "id": "3WCObEXJKNO0",
        "outputId": "35af42b3-003d-4a47-993f-126c9e475fc2"
      },
      "source": [
        "import re\r\n",
        "s1=input(\"Enter sentence: \")\r\n",
        "print(re.split('(?<![0-9])[\\s.,:;!?](?![0-9])',s1))"
      ],
      "execution_count": 52,
      "outputs": [
        {
          "output_type": "stream",
          "text": [
            "Enter sentence: Alas!Am I alive?This is my first python program\n",
            "['Alas', 'Am', 'I', 'alive', 'This', 'is', 'my', 'first', 'python', 'program']\n"
          ],
          "name": "stdout"
        }
      ]
    },
    {
      "cell_type": "code",
      "metadata": {
        "colab": {
          "base_uri": "https://localhost:8080/"
        },
        "id": "wdWXsASwQiCL",
        "outputId": "bd17c22e-69b2-4e16-8b7a-abd9683b6f0e"
      },
      "source": [
        "import re\r\n",
        "s1=input(\"Enter First sentence: \")\r\n",
        "s2=input(\"Enter Second sentence: \")\r\n",
        "def vow(s):\r\n",
        "  a=0\r\n",
        "  e=0\r\n",
        "  i=0\r\n",
        "  o=0\r\n",
        "  u=0\r\n",
        "  for j in s:\r\n",
        "    if re.findall('a',j):\r\n",
        "      a+=1\r\n",
        "    if re.findall('e',j):\r\n",
        "      e+=1\r\n",
        "    if re.findall('i',j):\r\n",
        "      i+=1\r\n",
        "    if re.findall('o',j):\r\n",
        "      o+=1\r\n",
        "    if re.findall('u',j):\r\n",
        "      u+=1\r\n",
        "  print(\"a:{},e:{},i:{},o:{},u:{}\".format(a,e,i,o,u))\r\n",
        "vow(s1)\r\n",
        "vow(s2)"
      ],
      "execution_count": 55,
      "outputs": [
        {
          "output_type": "stream",
          "text": [
            "Enter First sentence: Alas! Am I alive? This is my first python program\n",
            "Enter Second sentence: Alas! Am I alive? This is my first second program\n",
            "a:3,e:1,i:4,o:2,u:0\n",
            "a:3,e:2,i:4,o:2,u:0\n"
          ],
          "name": "stdout"
        }
      ]
    },
    {
      "cell_type": "markdown",
      "metadata": {
        "id": "CmFoI4jDS9nx"
      },
      "source": [
        "# Question 3 \n",
        "\n",
        "(15 points). The formula that describes the volume V of a sphere with radius r is the following:\n",
        "\n",
        "$ V=\\frac{4}{3}\\ast\\ \\pi\\ast\\ r^3 $\n",
        "\n",
        "Write a program to calculate the value of V when r is in the range of 1–10. Output the result in the following format:\n",
        "\n",
        "\tr\tV\n",
        "\t1\t…\n",
        "\t2\t…\n",
        "\t3\t…\n"
      ]
    },
    {
      "cell_type": "code",
      "metadata": {
        "id": "pEyqeioAT95b",
        "colab": {
          "base_uri": "https://localhost:8080/"
        },
        "outputId": "dd2b2772-5658-46bc-d7cf-0494f1b3db10"
      },
      "source": [
        "pi=3.14\n",
        "print(\"r  V\")\n",
        "for i in range(10):\n",
        "  v=(4/3)*pi*((i+1)**3)\n",
        "  print(\"{}  {}\".format(i+1,v))"
      ],
      "execution_count": null,
      "outputs": [
        {
          "output_type": "stream",
          "text": [
            "r  V\n",
            "1  4.1866666666666665\n",
            "2  33.49333333333333\n",
            "3  113.03999999999999\n",
            "4  267.94666666666666\n",
            "5  523.3333333333334\n",
            "6  904.3199999999999\n",
            "7  1436.0266666666666\n",
            "8  2143.5733333333333\n",
            "9  3052.08\n",
            "10  4186.666666666667\n"
          ],
          "name": "stdout"
        }
      ]
    },
    {
      "cell_type": "markdown",
      "metadata": {
        "id": "z3tBE7E-Xn5X"
      },
      "source": [
        "# Question 4\n",
        "\n",
        "(40 points). In the field of Data Science, data is often formatted as a comma-delimited (CSV) file, where each line in a file corresponds to a field's value. Refer to Chapter 9 (p. 106) for more information on comma-delimited files. To answer this question, you will need to download the file [Assignment1_denton_housing.csv](https://github.com/unt-iialab/info5731_spring2021/blob/main/assignment/Assignment1_denton_housing.csv) included with this assignment. The file [Assignment1_denton_housing.csv](https://github.com/unt-iialab/info5731_spring2021/blob/main/assignment/Assignment1_denton_housing.csv) contains statistics about housing in the city of Denton from 2008 to 2014. Write a program to implement the following questions.\n",
        "\n",
        "(1) (10 pts) Calculate the difference in the number of Occupied Housing Units from year to year and print it. The difference must be calculated for the consecutive years such as 2008-2009, 2009-2010 etc. Finally, print the values in the ascending order.\n",
        "\n",
        "(2) (10 pts) For all the years, calculate the percentage of housing units which are vacant an occupied. Print the results in the following format:\n",
        "\n",
        "Year Vacant Housing Units Occupied Housing Units\n",
        "\n",
        "    2008  30%   70%                          \n",
        "\t2009 ----- -----\n",
        "\t2010 ----- -----\n",
        "    2011 ----- -----\n",
        "\t2012 ----- -----\n",
        "    2013 ----- -----\n",
        "\t2014 ----- -----\n",
        "  \n",
        "  \n",
        "\n",
        "(3) (10 pts) Calculate and print the valued and years in which the highest number of housing units were vacant and occupied. Print the results in the following format:  \n",
        "\n",
        "                              Year\tValue\n",
        "\tVacant Housing Units\t  -----   -----\n",
        "\tOccupied Housing Units\t-----   -----\n",
        "\n",
        "(4) (10 pts) Calculate the harmonic mean of the total housing units and print it out. You can find the information about harmonic mean here: https://ncalculators.com/statistics/harmonic-mean-calculator.htm"
      ]
    },
    {
      "cell_type": "code",
      "metadata": {
        "colab": {
          "base_uri": "https://localhost:8080/"
        },
        "id": "lqGYuHBhcsRH",
        "outputId": "99ada618-7e33-4f13-851f-f3ab77cd526e"
      },
      "source": [
        "#1\n",
        "\n",
        "f=open(\"Assignment1_denton_housing.csv\",\"r\")\n",
        "a=f.readlines()\n",
        "y=2014\n",
        "v1=0\n",
        "v2=0\n",
        "l=[]\n",
        "while y>2008:\n",
        "  for i in a:\n",
        "    if i[0:4]==str(y) and i[5:27]==\"Occupied Housing Units\":\n",
        "      v1=float(i.strip().split(\",\")[2])\n",
        "    if i[0:4]==str(y-1) and i[5:27]==\"Occupied Housing Units\":\n",
        "      v2=float(i.strip().split(\",\")[2])\n",
        "      val=v1-v2\n",
        "      l.append(abs(val))\n",
        "      print(\"Difference in value for years {} and {} is {}\".format(y,y-1,abs(val)))\n",
        "  y-=1\n",
        "l.sort()\n",
        "print(\"Values in Asceding order: {}\".format(l))"
      ],
      "execution_count": null,
      "outputs": [
        {
          "output_type": "stream",
          "text": [
            "Difference in value for years 2014 and 2013 is 2622.0\n",
            "Difference in value for years 2013 and 2012 is 1565.0\n",
            "Difference in value for years 2012 and 2011 is 1404.0\n",
            "Difference in value for years 2011 and 2010 is 303.0\n",
            "Difference in value for years 2010 and 2009 is 5091.0\n",
            "Difference in value for years 2009 and 2008 is 795.0\n",
            "Values in Asceding order: [303.0, 795.0, 1404.0, 1565.0, 2622.0, 5091.0]\n"
          ],
          "name": "stdout"
        }
      ]
    },
    {
      "cell_type": "code",
      "metadata": {
        "colab": {
          "base_uri": "https://localhost:8080/"
        },
        "id": "0m_zlKEIpBcd",
        "outputId": "3abdc9f4-2201-41fe-c8b7-faabc99cc37a"
      },
      "source": [
        "#2\r\n",
        "\r\n",
        "f=open(\"Assignment1_denton_housing.csv\",\"r\")\r\n",
        "a=f.readlines()\r\n",
        "y=2008\r\n",
        "v1=0\r\n",
        "v2=0\r\n",
        "vt=0\r\n",
        "while y<=2014:\r\n",
        "  for i in a:\r\n",
        "    if i[0:4]==str(y) and i[5:24]==\"Total Housing Units\":\r\n",
        "      vt=float(i.strip().split(\",\")[2])\r\n",
        "    if i[0:4]==str(y) and i[5:25]==\"Vacant Housing Units\":\r\n",
        "      v1=float(i.strip().split(\",\")[2])\r\n",
        "    if i[0:4]==str(y) and i[5:27]==\"Occupied Housing Units\":\r\n",
        "      v2=float(i.strip().split(\",\")[2])\r\n",
        "      print(\"{} {}% {}%\".format(y,round((v1/vt)*100),round((v2/vt)*100)))\r\n",
        "  y+=1"
      ],
      "execution_count": null,
      "outputs": [
        {
          "output_type": "stream",
          "text": [
            "2008 11% 89%\n",
            "2009 9% 91%\n",
            "2010 8% 92%\n",
            "2011 9% 91%\n",
            "2012 7% 93%\n",
            "2013 9% 91%\n",
            "2014 6% 94%\n"
          ],
          "name": "stdout"
        }
      ]
    },
    {
      "cell_type": "code",
      "metadata": {
        "colab": {
          "base_uri": "https://localhost:8080/"
        },
        "id": "kZ_gLFzS1izX",
        "outputId": "6997d126-0ef3-4848-8870-4bae4bb184aa"
      },
      "source": [
        "#3\r\n",
        "\r\n",
        "import operator\r\n",
        "f=open(\"Assignment1_denton_housing.csv\",\"r\")\r\n",
        "a=f.readlines()\r\n",
        "y=2014\r\n",
        "dict1={}\r\n",
        "dict2={}\r\n",
        "while y>=2008:\r\n",
        "  for i in a:\r\n",
        "    if i[0:4]==str(y) and i[5:25]==\"Vacant Housing Units\":\r\n",
        "      dict1.update({y:int(i.strip().split(\",\")[2])})\r\n",
        "    if i[0:4]==str(y) and i[5:27]==\"Occupied Housing Units\":\r\n",
        "      dict2.update({y:int(i.strip().split(\",\")[2])})\r\n",
        "  y-=1\r\n",
        "a=max(dict1.items(),key=operator.itemgetter(1))\r\n",
        "b=max(dict2.items(),key=operator.itemgetter(1))\r\n",
        "print(\"                          Year   Value\")  \r\n",
        "print(\"Vacant  Housing Units     {}   {}\".format(a[0],a[1]))\r\n",
        "print(\"Occupied Housing Units    {}   {}\".format(b[0],b[1]))"
      ],
      "execution_count": null,
      "outputs": [
        {
          "output_type": "stream",
          "text": [
            "                          Year   Value\n",
            "Vacant  Housing Units     2008   4483\n",
            "Occupied Housing Units    2014   46295\n"
          ],
          "name": "stdout"
        }
      ]
    },
    {
      "cell_type": "code",
      "metadata": {
        "colab": {
          "base_uri": "https://localhost:8080/"
        },
        "id": "ocRzf6Seq0J3",
        "outputId": "5299342f-c9ec-49b0-d51a-05a4b70cc69d"
      },
      "source": [
        "#4\r\n",
        "\r\n",
        "f=open(\"Assignment1_denton_housing.csv\",\"r\")\r\n",
        "a=f.readlines()\r\n",
        "y=2014\r\n",
        "x=0\r\n",
        "c=0\r\n",
        "while y>=2008:\r\n",
        "  for i in a:\r\n",
        "    if i[0:4]==str(y) and i[5:24]==\"Total Housing Units\":\r\n",
        "      c+=1\r\n",
        "      x=x+(1/(int(i.strip().split(\",\")[2])))\r\n",
        "  y-=1\r\n",
        "hm=c/x\r\n",
        "print(hm)\r\n"
      ],
      "execution_count": null,
      "outputs": [
        {
          "output_type": "stream",
          "text": [
            "44398.28543969185\n"
          ],
          "name": "stdout"
        }
      ]
    }
  ]
}