{
  "nbformat": 4,
  "nbformat_minor": 0,
  "metadata": {
    "kernelspec": {
      "display_name": "Python 3",
      "language": "python",
      "name": "python3"
    },
    "language_info": {
      "codemirror_mode": {
        "name": "ipython",
        "version": 3
      },
      "file_extension": ".py",
      "mimetype": "text/x-python",
      "name": "python",
      "nbconvert_exporter": "python",
      "pygments_lexer": "ipython3",
      "version": "3.7.4"
    },
    "colab": {
      "name": "In-class-exercise-03.ipynb",
      "provenance": [],
      "include_colab_link": true
    }
  },
  "cells": [
    {
      "cell_type": "markdown",
      "metadata": {
        "id": "view-in-github",
        "colab_type": "text"
      },
      "source": [
        "<a href=\"https://colab.research.google.com/github/hariprasad7/hari_INFO5731_Spring2021/blob/main/In_class_exercise_03.ipynb\" target=\"_parent\"><img src=\"https://colab.research.google.com/assets/colab-badge.svg\" alt=\"Open In Colab\"/></a>"
      ]
    },
    {
      "cell_type": "markdown",
      "metadata": {
        "id": "UR_6ryKn3q5K"
      },
      "source": [
        "## The third In-class-exercise (9/16/2020, 20 points in total)"
      ]
    },
    {
      "cell_type": "markdown",
      "metadata": {
        "id": "tu0sCq4B3q5M"
      },
      "source": [
        "The purpose of this exercise is to under users' information needs, then collect the data for analysis."
      ]
    },
    {
      "cell_type": "markdown",
      "metadata": {
        "id": "wMj2Cs4u3q5N"
      },
      "source": [
        "Question 1 (8 points): Describe an interesting research question (or practical question) you have in mind, what kind of data should be collected to answer the question(s)? How many data needed for the analysis? The detail steps for collecting and save the data. "
      ]
    },
    {
      "cell_type": "code",
      "metadata": {
        "id": "kd9N9xjC3q5N"
      },
      "source": [
        "'''\n",
        "My research question is to extract list of all Netflix movie names from IMDB server(https://www.imdb.com/list/ls057824079/)\n",
        "For this I need list of all movie name headers - Used class lister-item-header\n",
        "I extracted top 500 movies list based on Movie Rating\n",
        "I have used pandas and Beautifulsoup libraries\n",
        "I have created a csv file for the extracted data to make it as readable data\n",
        "'''"
      ],
      "execution_count": null,
      "outputs": []
    },
    {
      "cell_type": "markdown",
      "metadata": {
        "id": "g3z-yKFP3q5O"
      },
      "source": [
        "Question 2 (12 points): Write python code to collect 500 items of the data you plan to collect above."
      ]
    },
    {
      "cell_type": "code",
      "metadata": {
        "colab": {
          "base_uri": "https://localhost:8080/",
          "height": 589
        },
        "id": "R_QjBaF13q5O",
        "outputId": "e2d77827-7e0d-4f98-b45c-9e926c7d1bd9"
      },
      "source": [
        "#importing modules\n",
        "import requests\n",
        "from bs4 import BeautifulSoup\n",
        "import pandas as pd\n",
        "#Creating a function(extract_movie_content) to rxtract data from IMDB server\n",
        "def extract_movie_content(page_number=None):\n",
        "    if page_number == 1:\n",
        "        url = \"https://www.imdb.com/list/ls057824079/\"\n",
        "    else:\n",
        "        url = f\"https://www.imdb.com/list/ls057824079/?page={page_number}\" #update the page number from 2 to 6 in URL\n",
        "    print(url)\n",
        "    req = requests.get(url)\n",
        "    soup = BeautifulSoup(req.content, 'html.parser')\n",
        "    movie_details = soup.find_all('h3', {'class': 'lister-item-header'}) #pulling movie name from URL using class->lister-item-header\n",
        "#Creating List->op of all the movie names\n",
        "    op = []\n",
        "    for movie in movie_details:\n",
        "        op.append({'movie_name': movie.a.text})\n",
        "    return op\n",
        "#Creating a function(build_movies) to extract movie names based on page numbers(from 1 to6)\n",
        "def build_movies():\n",
        "    final_op = []\n",
        "    for page in range(1, 6):\n",
        "        print(f\"Extracting page: {page}\")\n",
        "        final_op = final_op + extract_movie_content(page_number=page)\n",
        "#Converting list into dataframe using pandas\n",
        "    df = pd.DataFrame(final_op)\n",
        "    df.to_csv(\"movies_list.csv\")\n",
        "    return df\n",
        "\n",
        "build_movies()"
      ],
      "execution_count": 4,
      "outputs": [
        {
          "output_type": "stream",
          "text": [
            "Extracting page: 1\n",
            "https://www.imdb.com/list/ls057824079/\n",
            "Extracting page: 2\n",
            "https://www.imdb.com/list/ls057824079/?page=2\n",
            "Extracting page: 3\n",
            "https://www.imdb.com/list/ls057824079/?page=3\n",
            "Extracting page: 4\n",
            "https://www.imdb.com/list/ls057824079/?page=4\n",
            "Extracting page: 5\n",
            "https://www.imdb.com/list/ls057824079/?page=5\n"
          ],
          "name": "stdout"
        },
        {
          "output_type": "execute_result",
          "data": {
            "text/html": [
              "<div>\n",
              "<style scoped>\n",
              "    .dataframe tbody tr th:only-of-type {\n",
              "        vertical-align: middle;\n",
              "    }\n",
              "\n",
              "    .dataframe tbody tr th {\n",
              "        vertical-align: top;\n",
              "    }\n",
              "\n",
              "    .dataframe thead th {\n",
              "        text-align: right;\n",
              "    }\n",
              "</style>\n",
              "<table border=\"1\" class=\"dataframe\">\n",
              "  <thead>\n",
              "    <tr style=\"text-align: right;\">\n",
              "      <th></th>\n",
              "      <th>movie_name</th>\n",
              "    </tr>\n",
              "  </thead>\n",
              "  <tbody>\n",
              "    <tr>\n",
              "      <th>0</th>\n",
              "      <td>Dead Man</td>\n",
              "    </tr>\n",
              "    <tr>\n",
              "      <th>1</th>\n",
              "      <td>All Good Things</td>\n",
              "    </tr>\n",
              "    <tr>\n",
              "      <th>2</th>\n",
              "      <td>Brick</td>\n",
              "    </tr>\n",
              "    <tr>\n",
              "      <th>3</th>\n",
              "      <td>Breakfast at Tiffany's</td>\n",
              "    </tr>\n",
              "    <tr>\n",
              "      <th>4</th>\n",
              "      <td>Billy Elliot</td>\n",
              "    </tr>\n",
              "    <tr>\n",
              "      <th>...</th>\n",
              "      <td>...</td>\n",
              "    </tr>\n",
              "    <tr>\n",
              "      <th>495</th>\n",
              "      <td>Things Behind the Sun</td>\n",
              "    </tr>\n",
              "    <tr>\n",
              "      <th>496</th>\n",
              "      <td>Down and Out in Beverly Hills</td>\n",
              "    </tr>\n",
              "    <tr>\n",
              "      <th>497</th>\n",
              "      <td>The Thief and the Cobbler</td>\n",
              "    </tr>\n",
              "    <tr>\n",
              "      <th>498</th>\n",
              "      <td>Date with an Angel</td>\n",
              "    </tr>\n",
              "    <tr>\n",
              "      <th>499</th>\n",
              "      <td>The Butterfly</td>\n",
              "    </tr>\n",
              "  </tbody>\n",
              "</table>\n",
              "<p>500 rows × 1 columns</p>\n",
              "</div>"
            ],
            "text/plain": [
              "                        movie_name\n",
              "0                         Dead Man\n",
              "1                  All Good Things\n",
              "2                            Brick\n",
              "3           Breakfast at Tiffany's\n",
              "4                     Billy Elliot\n",
              "..                             ...\n",
              "495          Things Behind the Sun\n",
              "496  Down and Out in Beverly Hills\n",
              "497      The Thief and the Cobbler\n",
              "498             Date with an Angel\n",
              "499                  The Butterfly\n",
              "\n",
              "[500 rows x 1 columns]"
            ]
          },
          "metadata": {
            "tags": []
          },
          "execution_count": 4
        }
      ]
    }
  ]
}