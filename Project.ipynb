{
  "nbformat": 4,
  "nbformat_minor": 0,
  "metadata": {
    "colab": {
      "name": "Project.ipynb",
      "provenance": [],
      "collapsed_sections": [],
      "authorship_tag": "ABX9TyMyA+W/sjqGIe9Gu9R1WBZk",
      "include_colab_link": true
    },
    "kernelspec": {
      "name": "python3",
      "display_name": "Python 3"
    },
    "language_info": {
      "name": "python"
    }
  },
  "cells": [
    {
      "cell_type": "markdown",
      "metadata": {
        "id": "view-in-github",
        "colab_type": "text"
      },
      "source": [
        "<a href=\"https://colab.research.google.com/github/hariprasad7/hari_INFO5731_Spring2021/blob/main/Project.ipynb\" target=\"_parent\"><img src=\"https://colab.research.google.com/assets/colab-badge.svg\" alt=\"Open In Colab\"/></a>"
      ]
    },
    {
      "cell_type": "code",
      "metadata": {
        "colab": {
          "base_uri": "https://localhost:8080/"
        },
        "id": "QLnzZc-PphbB",
        "outputId": "88a3ca5c-cec3-4a0f-c095-35c755391673"
      },
      "source": [
        "!pip install tweepy"
      ],
      "execution_count": null,
      "outputs": [
        {
          "output_type": "stream",
          "text": [
            "Requirement already satisfied: tweepy in /usr/local/lib/python3.7/dist-packages (3.10.0)\n",
            "Requirement already satisfied: requests[socks]>=2.11.1 in /usr/local/lib/python3.7/dist-packages (from tweepy) (2.23.0)\n",
            "Requirement already satisfied: six>=1.10.0 in /usr/local/lib/python3.7/dist-packages (from tweepy) (1.15.0)\n",
            "Requirement already satisfied: requests-oauthlib>=0.7.0 in /usr/local/lib/python3.7/dist-packages (from tweepy) (1.3.0)\n",
            "Requirement already satisfied: certifi>=2017.4.17 in /usr/local/lib/python3.7/dist-packages (from requests[socks]>=2.11.1->tweepy) (2020.12.5)\n",
            "Requirement already satisfied: idna<3,>=2.5 in /usr/local/lib/python3.7/dist-packages (from requests[socks]>=2.11.1->tweepy) (2.10)\n",
            "Requirement already satisfied: chardet<4,>=3.0.2 in /usr/local/lib/python3.7/dist-packages (from requests[socks]>=2.11.1->tweepy) (3.0.4)\n",
            "Requirement already satisfied: urllib3!=1.25.0,!=1.25.1,<1.26,>=1.21.1 in /usr/local/lib/python3.7/dist-packages (from requests[socks]>=2.11.1->tweepy) (1.24.3)\n",
            "Requirement already satisfied: PySocks!=1.5.7,>=1.5.6; extra == \"socks\" in /usr/local/lib/python3.7/dist-packages (from requests[socks]>=2.11.1->tweepy) (1.7.1)\n",
            "Requirement already satisfied: oauthlib>=3.0.0 in /usr/local/lib/python3.7/dist-packages (from requests-oauthlib>=0.7.0->tweepy) (3.1.0)\n"
          ],
          "name": "stdout"
        }
      ]
    },
    {
      "cell_type": "code",
      "metadata": {
        "colab": {
          "base_uri": "https://localhost:8080/"
        },
        "id": "RPL-ud1-BHL6",
        "outputId": "8a362876-7bd0-4b2c-be93-c4c58deea5db"
      },
      "source": [
        "import json\n",
        "import tweepy\n",
        "import csv\n",
        "import pandas as pd\n",
        "import numpy as np\n",
        "tweet_cred = dict()\n",
        "tweet_cred['CONSUMER_KEY'] = 'u7L1lnR7HN85dn1qnTFO1cegb'\n",
        "tweet_cred['CONSUMER_SECRET'] = 'QN1JrEmit2To46ZcwWAT4aI5QGWZXWRDDUPnMCWV5M66SFc8wT'\n",
        "tweet_cred['ACCESS_KEY'] = '1144377060036620294-BSEicX3zH7hIhksbNZV9mrWFwa07cO'\n",
        "tweet_cred['ACCESS_SECRET'] = 'gxWMOodDq1nQAjix9mHEOUSAtgE7XH5ctHInm0XRslJce'\n",
        "\n",
        "with open('twitter_credentials.json', 'w') as info:\n",
        "  json.dump(tweet_cred, info, indent=4, sort_keys=True)\n",
        "with open('twitter_credentials.json') as cred_data:\n",
        "  info = json.load(cred_data)\n",
        "  consumer_key = info['CONSUMER_KEY']\n",
        "  consumer_secret = info['CONSUMER_SECRET']\n",
        "  access_key = info['ACCESS_KEY']\n",
        "  access_secret = info['ACCESS_SECRET']\n",
        "  auth = tweepy.OAuthHandler(consumer_key, consumer_secret)\n",
        "  api1 = tweepy.API(auth)\n",
        "\n",
        "final_tweettext=[]\n",
        "def pull_tweets(hashtag,maximum_number_of_tweets_to_be_extracted):\n",
        "  tweettext=[]\n",
        "  for tweet in tweepy.Cursor(api1.search, q='#' + hashtag, rpp=100, lang=\"en\", since='2020-10-05',until='2020-11-03' ).items(maximum_number_of_tweets_to_be_extracted):\n",
        "    tweettext.append(tweet.text)\n",
        "    final_tweettext.append(tweet.text)\n",
        "  covid_tweets=pd.DataFrame({'tweets':tweettext})\n",
        "  covid_tweets.to_csv('corona_vaccine.csv')\n",
        "  print(covid_tweets[:])\n",
        "  print('Extracted ' + str(len(covid_tweets)) + ' tweets with hashtag #' + hashtag + '\\n')\n",
        "\n",
        "l=int(input('Enter number of hashtags for which you want to extract the data: '))\n",
        "i=0\n",
        "for i in range(l):\n",
        "  hashtag = input('Enter the hashtag you want to pull data- ')\n",
        "  maximum_number_of_tweets_to_be_extracted = int(input('Enter the number of tweets that need to be extracted for hashtag #{}: '.format(hashtag)))\n",
        "  pull_tweets(hashtag,maximum_number_of_tweets_to_be_extracted)\n",
        "final_tweets=pd.DataFrame({'tweets':final_tweettext})\n",
        "final_tweets.to_csv('tweets.csv')"
      ],
      "execution_count": null,
      "outputs": [
        {
          "output_type": "stream",
          "text": [
            "Enter number of hashtags for which you want to extract the data: 3\n",
            "Enter the hashtag you want to pull data- #uselections2020\n",
            "Enter the number of tweets that need to be extracted for hashtag ##uselections2020: 1000\n",
            "Empty DataFrame\n",
            "Columns: [tweets]\n",
            "Index: []\n",
            "Extracted 0 tweets with hashtag ##uselections2020\n",
            "\n",
            "Enter the hashtag you want to pull data- #dumptrump\n",
            "Enter the number of tweets that need to be extracted for hashtag ##dumptrump: 1000\n",
            "Empty DataFrame\n",
            "Columns: [tweets]\n",
            "Index: []\n",
            "Extracted 0 tweets with hashtag ##dumptrump\n",
            "\n",
            "Enter the hashtag you want to pull data- trump\n",
            "Enter the number of tweets that need to be extracted for hashtag #trump: 1000\n",
            "Empty DataFrame\n",
            "Columns: [tweets]\n",
            "Index: []\n",
            "Extracted 0 tweets with hashtag #trump\n",
            "\n"
          ],
          "name": "stdout"
        }
      ]
    },
    {
      "cell_type": "code",
      "metadata": {
        "colab": {
          "base_uri": "https://localhost:8080/",
          "height": 938
        },
        "id": "9FWXylOzS6l0",
        "outputId": "84e07256-78f1-4600-d6e5-dbe358f04dea"
      },
      "source": [
        "#Removing special characters and punctuations\n",
        "final_tweets['Special Characters removal']=final_tweets['tweets'].str.replace('[!-;:,<>./?@#$%^&*_~{}]','')\n",
        "#Remove numbers\n",
        "final_tweets['Remove numbers']=final_tweets['tweets'].str.replace('\\d','')\n",
        "#Stopwords removal\n",
        "from nltk.corpus import stopwords\n",
        "import nltk\n",
        "nltk.download('stopwords')\n",
        "stop=stopwords.words('english') \n",
        "final_tweets['Stopwords removal']=final_tweets['tweets'].apply(lambda x: \" \".join(x for x in x.split() if x not in stop))\n",
        "#Lower casing\n",
        "final_tweets['Lower casing']=final_tweets['tweets'].apply(lambda x: \" \".join(x.lower() for x in x.split()))\n",
        "#stemming\n",
        "from nltk.stem import PorterStemmer\n",
        "st=PorterStemmer()\n",
        "final_tweets['stemming']=final_tweets['tweets'].apply(lambda x: \" \".join([st.stem(word) for word in x.split()]))\n",
        "#Lemmatization\n",
        "import nltk\n",
        "from textblob import Word\n",
        "nltk.download('wordnet')\n",
        "final_tweets['Lemmatization']=final_tweets['tweets'].apply(lambda x: \" \".join([Word(word).lemmatize() for word in x.split()]))\n",
        "final_tweets"
      ],
      "execution_count": null,
      "outputs": [
        {
          "output_type": "stream",
          "text": [
            "[nltk_data] Downloading package stopwords to /root/nltk_data...\n",
            "[nltk_data]   Unzipping corpora/stopwords.zip.\n",
            "[nltk_data] Downloading package wordnet to /root/nltk_data...\n",
            "[nltk_data]   Unzipping corpora/wordnet.zip.\n"
          ],
          "name": "stdout"
        },
        {
          "output_type": "execute_result",
          "data": {
            "text/html": [
              "<div>\n",
              "<style scoped>\n",
              "    .dataframe tbody tr th:only-of-type {\n",
              "        vertical-align: middle;\n",
              "    }\n",
              "\n",
              "    .dataframe tbody tr th {\n",
              "        vertical-align: top;\n",
              "    }\n",
              "\n",
              "    .dataframe thead th {\n",
              "        text-align: right;\n",
              "    }\n",
              "</style>\n",
              "<table border=\"1\" class=\"dataframe\">\n",
              "  <thead>\n",
              "    <tr style=\"text-align: right;\">\n",
              "      <th></th>\n",
              "      <th>tweets</th>\n",
              "      <th>tweets1</th>\n",
              "      <th>tweets2</th>\n",
              "      <th>tweets3</th>\n",
              "      <th>tweets4</th>\n",
              "      <th>tweets5</th>\n",
              "      <th>tweets6</th>\n",
              "    </tr>\n",
              "  </thead>\n",
              "  <tbody>\n",
              "    <tr>\n",
              "      <th>0</th>\n",
              "      <td>RT @MaryannNgozika: Help trend this 😢\\nHow man...</td>\n",
              "      <td>RT MaryannNgozika Help trend this 😢\\nHow many ...</td>\n",
              "      <td>RT @MaryannNgozika: Help trend this 😢\\nHow man...</td>\n",
              "      <td>RT @MaryannNgozika: Help trend 😢 How many news...</td>\n",
              "      <td>rt @maryannngozika: help trend this 😢 how many...</td>\n",
              "      <td>RT @maryannngozika: help trend thi 😢 how mani ...</td>\n",
              "      <td>RT @MaryannNgozika: Help trend this 😢 How many...</td>\n",
              "    </tr>\n",
              "    <tr>\n",
              "      <th>1</th>\n",
              "      <td>RT @soleimany_ir: I believe the #US government...</td>\n",
              "      <td>RT soleimanyir I believe the US government is ...</td>\n",
              "      <td>RT @soleimany_ir: I believe the #US government...</td>\n",
              "      <td>RT @soleimany_ir: I believe #US government dic...</td>\n",
              "      <td>rt @soleimany_ir: i believe the #us government...</td>\n",
              "      <td>RT @soleimany_ir: I believ the #u govern is a ...</td>\n",
              "      <td>RT @soleimany_ir: I believe the #US government...</td>\n",
              "    </tr>\n",
              "    <tr>\n",
              "      <th>2</th>\n",
              "      <td>RT @soleimany_ir: I believe the #US government...</td>\n",
              "      <td>RT soleimanyir I believe the US government is ...</td>\n",
              "      <td>RT @soleimany_ir: I believe the #US government...</td>\n",
              "      <td>RT @soleimany_ir: I believe #US government dic...</td>\n",
              "      <td>rt @soleimany_ir: i believe the #us government...</td>\n",
              "      <td>RT @soleimany_ir: I believ the #u govern is a ...</td>\n",
              "      <td>RT @soleimany_ir: I believe the #US government...</td>\n",
              "    </tr>\n",
              "    <tr>\n",
              "      <th>3</th>\n",
              "      <td>RT @soleimany_ir: I believe the #US government...</td>\n",
              "      <td>RT soleimanyir I believe the US government is ...</td>\n",
              "      <td>RT @soleimany_ir: I believe the #US government...</td>\n",
              "      <td>RT @soleimany_ir: I believe #US government dic...</td>\n",
              "      <td>rt @soleimany_ir: i believe the #us government...</td>\n",
              "      <td>RT @soleimany_ir: I believ the #u govern is a ...</td>\n",
              "      <td>RT @soleimany_ir: I believe the #US government...</td>\n",
              "    </tr>\n",
              "    <tr>\n",
              "      <th>4</th>\n",
              "      <td>RT @soleimany_ir: I believe the #US government...</td>\n",
              "      <td>RT soleimanyir I believe the US government is ...</td>\n",
              "      <td>RT @soleimany_ir: I believe the #US government...</td>\n",
              "      <td>RT @soleimany_ir: I believe #US government dic...</td>\n",
              "      <td>rt @soleimany_ir: i believe the #us government...</td>\n",
              "      <td>RT @soleimany_ir: I believ the #u govern is a ...</td>\n",
              "      <td>RT @soleimany_ir: I believe the #US government...</td>\n",
              "    </tr>\n",
              "    <tr>\n",
              "      <th>...</th>\n",
              "      <td>...</td>\n",
              "      <td>...</td>\n",
              "      <td>...</td>\n",
              "      <td>...</td>\n",
              "      <td>...</td>\n",
              "      <td>...</td>\n",
              "      <td>...</td>\n",
              "    </tr>\n",
              "    <tr>\n",
              "      <th>4493</th>\n",
              "      <td>RT @PatternPurveyor: @RonDesantis needs to be ...</td>\n",
              "      <td>RT PatternPurveyor RonDesantis needs to be awa...</td>\n",
              "      <td>RT @PatternPurveyor: @RonDesantis needs to be ...</td>\n",
              "      <td>RT @PatternPurveyor: @RonDesantis needs aware ...</td>\n",
              "      <td>rt @patternpurveyor: @rondesantis needs to be ...</td>\n",
              "      <td>RT @patternpurveyor: @rondesanti need to be aw...</td>\n",
              "      <td>RT @PatternPurveyor: @RonDesantis need to be a...</td>\n",
              "    </tr>\n",
              "    <tr>\n",
              "      <th>4494</th>\n",
              "      <td>RT @BruceBourgoine: At this point, the differe...</td>\n",
              "      <td>RT BruceBourgoine At this point the difference...</td>\n",
              "      <td>RT @BruceBourgoine: At this point, the differe...</td>\n",
              "      <td>RT @BruceBourgoine: At point, difference effec...</td>\n",
              "      <td>rt @brucebourgoine: at this point, the differe...</td>\n",
              "      <td>RT @brucebourgoine: At thi point, the differ b...</td>\n",
              "      <td>RT @BruceBourgoine: At this point, the differe...</td>\n",
              "    </tr>\n",
              "    <tr>\n",
              "      <th>4495</th>\n",
              "      <td>RT @BruceBourgoine: At this point, the differe...</td>\n",
              "      <td>RT BruceBourgoine At this point the difference...</td>\n",
              "      <td>RT @BruceBourgoine: At this point, the differe...</td>\n",
              "      <td>RT @BruceBourgoine: At point, difference effec...</td>\n",
              "      <td>rt @brucebourgoine: at this point, the differe...</td>\n",
              "      <td>RT @brucebourgoine: At thi point, the differ b...</td>\n",
              "      <td>RT @BruceBourgoine: At this point, the differe...</td>\n",
              "    </tr>\n",
              "    <tr>\n",
              "      <th>4496</th>\n",
              "      <td>RT @SuMoh7: Support✨Democrats Work For America...</td>\n",
              "      <td>RT SuMoh Support✨Democrats Work For America✨\\n...</td>\n",
              "      <td>RT @SuMoh: Support✨Democrats Work For America✨...</td>\n",
              "      <td>RT @SuMoh7: Support✨Democrats Work For America...</td>\n",
              "      <td>rt @sumoh7: support✨democrats work for america...</td>\n",
              "      <td>RT @sumoh7: support✨democrat work for america✨...</td>\n",
              "      <td>RT @SuMoh7: Support✨Democrats Work For America...</td>\n",
              "    </tr>\n",
              "    <tr>\n",
              "      <th>4497</th>\n",
              "      <td>At this point, the difference between an effec...</td>\n",
              "      <td>At this point the difference between an effect...</td>\n",
              "      <td>At this point, the difference between an effec...</td>\n",
              "      <td>At point, difference effective people focused ...</td>\n",
              "      <td>at this point, the difference between an effec...</td>\n",
              "      <td>At thi point, the differ between an effect peo...</td>\n",
              "      <td>At this point, the difference between an effec...</td>\n",
              "    </tr>\n",
              "  </tbody>\n",
              "</table>\n",
              "<p>4498 rows × 7 columns</p>\n",
              "</div>"
            ],
            "text/plain": [
              "                                                 tweets  ...                                            tweets6\n",
              "0     RT @MaryannNgozika: Help trend this 😢\\nHow man...  ...  RT @MaryannNgozika: Help trend this 😢 How many...\n",
              "1     RT @soleimany_ir: I believe the #US government...  ...  RT @soleimany_ir: I believe the #US government...\n",
              "2     RT @soleimany_ir: I believe the #US government...  ...  RT @soleimany_ir: I believe the #US government...\n",
              "3     RT @soleimany_ir: I believe the #US government...  ...  RT @soleimany_ir: I believe the #US government...\n",
              "4     RT @soleimany_ir: I believe the #US government...  ...  RT @soleimany_ir: I believe the #US government...\n",
              "...                                                 ...  ...                                                ...\n",
              "4493  RT @PatternPurveyor: @RonDesantis needs to be ...  ...  RT @PatternPurveyor: @RonDesantis need to be a...\n",
              "4494  RT @BruceBourgoine: At this point, the differe...  ...  RT @BruceBourgoine: At this point, the differe...\n",
              "4495  RT @BruceBourgoine: At this point, the differe...  ...  RT @BruceBourgoine: At this point, the differe...\n",
              "4496  RT @SuMoh7: Support✨Democrats Work For America...  ...  RT @SuMoh7: Support✨Democrats Work For America...\n",
              "4497  At this point, the difference between an effec...  ...  At this point, the difference between an effec...\n",
              "\n",
              "[4498 rows x 7 columns]"
            ]
          },
          "metadata": {
            "tags": []
          },
          "execution_count": 76
        }
      ]
    },
    {
      "cell_type": "code",
      "metadata": {
        "id": "63C9K70rSi0w"
      },
      "source": [
        ""
      ],
      "execution_count": null,
      "outputs": []
    }
  ]
}