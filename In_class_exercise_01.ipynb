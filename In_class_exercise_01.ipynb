{
  "nbformat": 4,
  "nbformat_minor": 0,
  "metadata": {
    "colab": {
      "name": "In_class_exercise_01.ipynb",
      "provenance": [],
      "collapsed_sections": [],
      "include_colab_link": true
    },
    "kernelspec": {
      "display_name": "Python 3",
      "language": "python",
      "name": "python3"
    },
    "language_info": {
      "codemirror_mode": {
        "name": "ipython",
        "version": 3
      },
      "file_extension": ".py",
      "mimetype": "text/x-python",
      "name": "python",
      "nbconvert_exporter": "python",
      "pygments_lexer": "ipython3",
      "version": "3.7.4"
    }
  },
  "cells": [
    {
      "cell_type": "markdown",
      "metadata": {
        "id": "view-in-github",
        "colab_type": "text"
      },
      "source": [
        "<a href=\"https://colab.research.google.com/github/hariprasad7/hari_INFO5731_Spring2021/blob/main/In_class_exercise_01.ipynb\" target=\"_parent\"><img src=\"https://colab.research.google.com/assets/colab-badge.svg\" alt=\"Open In Colab\"/></a>"
      ]
    },
    {
      "cell_type": "markdown",
      "metadata": {
        "id": "DymRJbxDBCnf"
      },
      "source": [
        "# **The first In-class-exercise (1/19/2021, 20 points in total)**"
      ]
    },
    {
      "cell_type": "markdown",
      "metadata": {
        "id": "03jb4GZsBkBS"
      },
      "source": [
        "(1) Write a Python program to calculate the length of a string. (2 points)"
      ]
    },
    {
      "cell_type": "code",
      "metadata": {
        "id": "YaGLbSHHB8Ej",
        "colab": {
          "base_uri": "https://localhost:8080/"
        },
        "outputId": "7cc11607-3e47-4499-a01f-3ae2ea9d08b5"
      },
      "source": [
        "string1=str(input(\"Enter a string: \"))\n",
        "print(len(string1))"
      ],
      "execution_count": 26,
      "outputs": [
        {
          "output_type": "stream",
          "text": [
            "Enter a string: hari\n",
            "4\n"
          ],
          "name": "stdout"
        }
      ]
    },
    {
      "cell_type": "markdown",
      "metadata": {
        "id": "jJDe71iLB616"
      },
      "source": [
        "(2) Write a Python program to count the number of characters in a string. (2 points)\n",
        "\n",
        "Sample String : 'google.com‘, \n",
        "\n",
        "Expected Result : {'o': 3, 'g': 2, '.': 1, 'e': 1, 'l': 1, 'm': 1, 'c': 1}"
      ]
    },
    {
      "cell_type": "code",
      "metadata": {
        "id": "MtKskTzbCLaU",
        "colab": {
          "base_uri": "https://localhost:8080/"
        },
        "outputId": "f1d7b8c5-096e-4ac9-8333-bca943f3d943"
      },
      "source": [
        "import operator\n",
        "string2=str(input(\"enter a string: \"))\n",
        "lt=len(string2)\n",
        "ar={}\n",
        "for x in range(lt):\n",
        "  ct=0\n",
        "  for y in range(lt):\n",
        "    if string2[x]==string2[y]:\n",
        "      ct+=1\n",
        "  ar.update({string2[x]:ct})\n",
        "sortdic=sorted(ar.items(),key=operator.itemgetter(1),reverse=True)\n",
        "print(dict(sortdic))"
      ],
      "execution_count": 27,
      "outputs": [
        {
          "output_type": "stream",
          "text": [
            "enter a string: google.com\n",
            "{'o': 3, 'g': 2, 'l': 1, 'e': 1, '.': 1, 'c': 1, 'm': 1}\n"
          ],
          "name": "stdout"
        }
      ]
    },
    {
      "cell_type": "markdown",
      "metadata": {
        "id": "55W9AMdXCSpV"
      },
      "source": [
        "(3) Write a Python program to sum all the items in a list. (2 points)"
      ]
    },
    {
      "cell_type": "markdown",
      "metadata": {
        "id": "rXCy6IbNpl-1"
      },
      "source": [
        ""
      ]
    },
    {
      "cell_type": "code",
      "metadata": {
        "id": "I57NXsauCec2",
        "colab": {
          "base_uri": "https://localhost:8080/"
        },
        "outputId": "af1cd9f0-26eb-4cb2-ce82-79696ca51a10"
      },
      "source": [
        "l=int(input(print(\"Enter the number of elements in the List: \")))\n",
        "list1=[]\n",
        "for x in range(l):\n",
        "  txt=\"Enter element {}: in the List \" \n",
        "  a=int(input(txt.format(x+1)))\n",
        "  list1.append(a)\n",
        "print(sum(list1))"
      ],
      "execution_count": 28,
      "outputs": [
        {
          "output_type": "stream",
          "text": [
            "Enter the number of elements in the List: \n",
            "3\n",
            "Enter element 1: in the List 1\n",
            "Enter element 2: in the List 2\n",
            "Enter element 3: in the List 3\n",
            "6\n"
          ],
          "name": "stdout"
        }
      ]
    },
    {
      "cell_type": "markdown",
      "metadata": {
        "id": "4ulBZ6yhCi9F"
      },
      "source": [
        "(4) Write a Python program to get a string from a given string where all occurrences of its first char have been changed to '\\$', except the first char itself. (2 points)\n",
        "\n",
        "Sample String : 'restart‘, \n",
        "\n",
        "Expected Result : 'resta\\$t'"
      ]
    },
    {
      "cell_type": "code",
      "metadata": {
        "id": "Fj0XhwbBCw2o",
        "colab": {
          "base_uri": "https://localhost:8080/"
        },
        "outputId": "ea754999-851c-484a-e685-e93ceb9b5607"
      },
      "source": [
        "string3=str(input(\"Enter a string: \"))\n",
        "l=len(string3)\n",
        "for x in range(l-1):\n",
        "  if string3[x+1]==string3[0]:\n",
        "    string3=string3[:x+1]+\"$\"+string3[x+2:]\n",
        "print(string3)"
      ],
      "execution_count": 29,
      "outputs": [
        {
          "output_type": "stream",
          "text": [
            "Enter a string: restart\n",
            "resta$t\n"
          ],
          "name": "stdout"
        }
      ]
    },
    {
      "cell_type": "markdown",
      "metadata": {
        "id": "_bIP7s1MCzue"
      },
      "source": [
        "(5) Write a program with python which could accept two parameter a and b to calculate and output the result of S, where \n",
        "\n",
        "$\\ S=3.14*(1+a/b)^3$ (3 points)\n",
        "\n"
      ]
    },
    {
      "cell_type": "code",
      "metadata": {
        "id": "w79QilHXD3Mg",
        "colab": {
          "base_uri": "https://localhost:8080/"
        },
        "outputId": "b826c08e-c5a2-4c5a-8d30-c3248e9b3a36"
      },
      "source": [
        "a=float(input('Enter value a: '))\n",
        "b=float(input('Enter value b: '))\n",
        "if a>b and b!=0:  \n",
        "  s=3.14*((1+(a/b))**3)\n",
        "  print(s)\n",
        "else:\n",
        "  print(\"Please provide input values as a>b and b not equals zero\")"
      ],
      "execution_count": 30,
      "outputs": [
        {
          "output_type": "stream",
          "text": [
            "Enter value a: 5\n",
            "Enter value b: 3\n",
            "59.54370370370373\n"
          ],
          "name": "stdout"
        }
      ]
    },
    {
      "cell_type": "markdown",
      "metadata": {
        "id": "xCa2bK9aD4Q3"
      },
      "source": [
        "(6) Write a Python program to concatenate following dictionaries to create a new one. (3 points)\n",
        "\n",
        "Sample Dictionary : dic1={1:10, 2:20}, dic2={3:30, 4:40}, dic3={5:50,6:60}, \n",
        "\n",
        "Expected Result : {1: 10, 2: 20, 3: 30, 4: 40, 5: 50, 6: 60}\n"
      ]
    },
    {
      "cell_type": "code",
      "metadata": {
        "id": "_z4aLqAbEET1",
        "colab": {
          "base_uri": "https://localhost:8080/"
        },
        "outputId": "73e91448-3c9b-401b-d03d-4a14ef72d2ea"
      },
      "source": [
        "dic1={1:10, 2:20}\n",
        "dic2={3:30, 4:40}\n",
        "dic3={5:50, 6:60}\n",
        "dic4={**dic1, **dic2, **dic3}\n",
        "print(dic4)"
      ],
      "execution_count": 31,
      "outputs": [
        {
          "output_type": "stream",
          "text": [
            "{1: 10, 2: 20, 3: 30, 4: 40, 5: 50, 6: 60}\n"
          ],
          "name": "stdout"
        }
      ]
    },
    {
      "cell_type": "markdown",
      "metadata": {
        "id": "0v48Vqa7FrQh"
      },
      "source": [
        "(7) Write a Python program to check whether an element exists within a tuple. (3 points)"
      ]
    },
    {
      "cell_type": "code",
      "metadata": {
        "id": "7WEmgq-DF2P1",
        "colab": {
          "base_uri": "https://localhost:8080/"
        },
        "outputId": "d91a52b3-b1ba-444b-be35-f5aa9ffce75b"
      },
      "source": [
        "l=int(input(print(\"Enter the number of elements in the Tuple: \")))\n",
        "tuple1=()\n",
        "list3=[]\n",
        "for x in range(l):\n",
        "  txt=\"Enter element {} in the Tuple:\" \n",
        "  a=input(txt.format(x+1))\n",
        "  list3.append(a)\n",
        "tuple1=tuple(list3)\n",
        "x=input(\"Enter value to be found:\")\n",
        "if x in tuple1:\n",
        "  txt=\"Element {} is present in the Tuple\"\n",
        "  print(txt.format(x))\n",
        "else:\n",
        "  txt=\"Element {} is not present in the Tuple\"\n",
        "  print(txt.format(x))"
      ],
      "execution_count": 32,
      "outputs": [
        {
          "output_type": "stream",
          "text": [
            "Enter the number of elements in the Tuple: \n",
            "3\n",
            "Enter element 1 in the Tuple:a\n",
            "Enter element 2 in the Tuple:b\n",
            "Enter element 3 in the Tuple:c\n",
            "Enter value to be found:b\n",
            "Element b is present in the Tuple\n"
          ],
          "name": "stdout"
        }
      ]
    },
    {
      "cell_type": "markdown",
      "metadata": {
        "id": "vD5PYLMuGga_"
      },
      "source": [
        "(8) Write a Python program to find maximum and the minimum value in a set. (3 points)"
      ]
    },
    {
      "cell_type": "code",
      "metadata": {
        "id": "t0D5kdJUGjjw",
        "colab": {
          "base_uri": "https://localhost:8080/"
        },
        "outputId": "cb0a51e4-c94e-4746-d15c-d3cf5717938b"
      },
      "source": [
        "l=int(input(\"Enter the number of elements in the Set: \"))\n",
        "set1={}\n",
        "list2=[]\n",
        "for x in range(l):\n",
        "  txt=\"Enter element {} in the Set: \" \n",
        "  a=int(input(txt.format(x+1)))\n",
        "  list2.append(a)\n",
        "set1=set(list2)\n",
        "print(max(set1))\n",
        "print(min(set1))"
      ],
      "execution_count": null,
      "outputs": [
        {
          "output_type": "stream",
          "text": [
            "Enter the number of elements in the Set: \n",
            "5\n",
            "Enter element 1 in the Set:1\n",
            "Enter element 2 in the Set:2\n",
            "Enter element 3 in the Set:3\n",
            "Enter element 4 in the Set:4\n",
            "Enter element 5 in the Set:5\n",
            "5\n",
            "1\n"
          ],
          "name": "stdout"
        }
      ]
    },
    {
      "cell_type": "markdown",
      "metadata": {
        "id": "uHkd-y5VhVWC"
      },
      "source": [
        "(9) Write a Python program to randomly divide the students in this class into five groups for term projects, each group should have at least 3 students but no more than 5 students (including 5). Here is the students list: (3 points for extra)\n",
        "\n",
        "studnet_list = ['vmb0067','pc0353','snd0097','yye0005','sg0940','bk0301','rak0120','rrk0058','spk0057','vl0135','nm0547','pn0159',\n",
        "                'msp0174','dd0420','ds0761','rs0850','ss1995','at0739','at0768','mv0299','tv0119','dy0091']"
      ]
    },
    {
      "cell_type": "code",
      "metadata": {
        "id": "3iGbmcOBhTwy",
        "colab": {
          "base_uri": "https://localhost:8080/"
        },
        "outputId": "bacbe676-6c8e-4970-a383-b97393b8e670"
      },
      "source": [
        "import random\n",
        "list1=['vmb0067','pc0353','snd0097','yye0005','sg0940','bk0301','rak0120','rrk0058','spk0057','vl0135','nm0547','pn0159', 'msp0174','dd0420','ds0761','rs0850','ss1995','at0739','at0768','mv0299','tv0119','dy0091']\n",
        "l=len(list1)\n",
        "l1=[]\n",
        "l2=[]\n",
        "l3=[]\n",
        "l4=[]\n",
        "l5=[]\n",
        "for x in range(l):\n",
        "  if list1 and len(l1)<=5:\n",
        "    a=random.choice(list1)\n",
        "    l1.insert(x, a)\n",
        "    list1.remove(a)\n",
        "  else:\n",
        "    break\n",
        "  if list1 and len(l2)<=5:\n",
        "    a=random.choice(list1)\n",
        "    l2.insert(x, a)\n",
        "    list1.remove(a)\n",
        "  else:\n",
        "    break\n",
        "  if list1 and len(l3)<=5:\n",
        "    a=random.choice(list1)\n",
        "    l3.insert(x, a)\n",
        "    list1.remove(a)\n",
        "  else:\n",
        "    break\n",
        "  if list1 and len(l4)<=5:\n",
        "    a=random.choice(list1)\n",
        "    l4.insert(x, a)\n",
        "    list1.remove(a)\n",
        "  else:\n",
        "    break\n",
        "  if list1 and len(l5)<=5:\n",
        "    a=random.choice(list1)\n",
        "    l5.insert(x, a)\n",
        "    list1.remove(a)\n",
        "  else:\n",
        "    break\n",
        "print(l1)\n",
        "print(l2)\n",
        "print(l3)\n",
        "print(l4)\n",
        "print(l5)"
      ],
      "execution_count": 33,
      "outputs": [
        {
          "output_type": "stream",
          "text": [
            "['tv0119', 'pc0353', 'at0739', 'yye0005', 'rrk0058']\n",
            "['snd0097', 'vl0135', 'pn0159', 'rak0120', 'msp0174']\n",
            "['ss1995', 'sg0940', 'at0768', 'mv0299']\n",
            "['spk0057', 'vmb0067', 'dy0091', 'ds0761']\n",
            "['dd0420', 'nm0547', 'bk0301', 'rs0850']\n"
          ],
          "name": "stdout"
        }
      ]
    }
  ]
}