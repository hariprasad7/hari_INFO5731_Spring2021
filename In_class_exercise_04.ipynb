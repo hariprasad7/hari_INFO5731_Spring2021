{
  "nbformat": 4,
  "nbformat_minor": 0,
  "metadata": {
    "colab": {
      "name": "In_class_exercise_04.ipynb",
      "provenance": [],
      "collapsed_sections": [],
      "include_colab_link": true
    },
    "kernelspec": {
      "display_name": "Python 3",
      "language": "python",
      "name": "python3"
    },
    "language_info": {
      "codemirror_mode": {
        "name": "ipython",
        "version": 3
      },
      "file_extension": ".py",
      "mimetype": "text/x-python",
      "name": "python",
      "nbconvert_exporter": "python",
      "pygments_lexer": "ipython3",
      "version": "3.8.5"
    }
  },
  "cells": [
    {
      "cell_type": "markdown",
      "metadata": {
        "id": "view-in-github",
        "colab_type": "text"
      },
      "source": [
        "<a href=\"https://colab.research.google.com/github/hariprasad7/hari_INFO5731_Spring2021/blob/main/In_class_exercise_04.ipynb\" target=\"_parent\"><img src=\"https://colab.research.google.com/assets/colab-badge.svg\" alt=\"Open In Colab\"/></a>"
      ]
    },
    {
      "cell_type": "markdown",
      "metadata": {
        "id": "EuX00KHNeSpw"
      },
      "source": [
        "# **The fourth in-class-exercise (20 points in total, 2/9/2021)**"
      ]
    },
    {
      "cell_type": "markdown",
      "metadata": {
        "id": "s-vTOb03hG1f"
      },
      "source": [
        "# 1. Text Data Preprocessing\n",
        "\n",
        "Here is a [legal case](https://github.com/unt-iialab/info5731_spring2021/blob/main/class_exercises/01-05-1%20%20Adams%20v%20Tanner.txt) we collected from westlaw, please follow the steps we mentioned in lesson 5 to clean the data:\n",
        "\n",
        "\n",
        "\n",
        "## 1.1 Basic feature extraction using text data (4 points)\n",
        "\n",
        "*   Number of sentences\n",
        "*   Number of words\n",
        "*   Number of characters\n",
        "*   Average word length\n",
        "*   Number of stopwords\n",
        "*   Number of special characters\n",
        "*   Number of numerics\n",
        "*   Number of uppercase words\n",
        "\n",
        "## 1.2 Basic Text Pre-processing of text data (4 points)\n",
        "\n",
        "*   Lower casing\n",
        "*   Punctuation removal\n",
        "*   Stopwords removal\n",
        "*   Frequent words removal\n",
        "*   Rare words removal\n",
        "*   Spelling correction\n",
        "*   Tokenization\n",
        "*   Stemming\n",
        "*   Lemmatization\n",
        "\n",
        "## 1.3 Save all the **clean sentences** to a **csv file** (one column, each raw is a sentence) after finishing all the steps above. (4 points)\n",
        "\n",
        "\n",
        "## 1.4 Advance Text Processing (Extra credit: 4 points)\n",
        "\n",
        "*   Calculate the term frequency of all the terms.\n",
        "*   Print out top 10 1-gram, top 10 2-grams, and top 10 3-grams terms as features.\n"
      ]
    },
    {
      "cell_type": "code",
      "metadata": {
        "colab": {
          "base_uri": "https://localhost:8080/"
        },
        "id": "vR0L3_CreM_A",
        "outputId": "9c6ad55a-3f2a-4f7d-e598-f5531e2df5a3"
      },
      "source": [
        "\n",
        "#1.1\n",
        "import pandas as pd\n",
        "from pandas import DataFrame\n",
        "url='https://raw.githubusercontent.com/unt-iialab/info5731_spring2021/main/class_exercises/01-05-1%20%20Adams%20v%20Tanner.txt'\n",
        "data = pd.read_csv(url,sep='\\n',header=None)\n",
        "data.columns = [\"column1\"]\n",
        "#Number of Sentences\n",
        "data['Sentence_count']=data['column1'].apply(lambda x: len(str(x).split(\".\")))\n",
        "print(data)\n",
        "#Number of words\n",
        "data['Word_count']=data['column1'].apply(lambda x: len(str(x).split(\" \")))\n",
        "print(data)\n",
        "#Number of Characters\n",
        "data['Characters_count']=data['column1'].str.len()\n",
        "print(data)\n",
        "#Average word count\n",
        "def avg(sentence):\n",
        "  words=sentence.split(' ')\n",
        "  return (sum(len(word) for word in words)/len(words))\n",
        "data['AvgWord_count']=data['column1'].apply(lambda x: avg(x))\n",
        "print(data)\n",
        "#Number of stopwords\n",
        "from nltk.corpus import stopwords\n",
        "import nltk\n",
        "nltk.download('stopwords')\n",
        "stop=stopwords.words('english') \n",
        "data['Stopwords']=data['column1'].apply(lambda x: len([x for x in x.split() if x in stop]))\n",
        "print(data)\n",
        "#Number of special Character words\n",
        "data['Special characters']=data['column1'].apply(lambda x: len([x for x in x.split() if x.startswith('#')]))\n",
        "print(data)\n",
        "#Number of Numerics\n",
        "data['Numerics']=data['column1'].apply(lambda x: len([x for x in x.split() if x.isdigit()]))\n",
        "print(data)\n",
        "#Number of Uppercase words\n",
        "data['Uppercase words']=data['column1'].apply(lambda x: len([x for x in x.split() if x.isupper()]))\n",
        "print(data)"
      ],
      "execution_count": null,
      "outputs": [
        {
          "output_type": "stream",
          "text": [
            "                                               column1  Sentence_count\n",
            "0                                           5 Ala. 740               2\n",
            "1                            Supreme Court of Alabama.               2\n",
            "2                                                ADAMS               1\n",
            "3                                                   v.               2\n",
            "4                                   TANNER AND HORTON.               2\n",
            "..                                                 ...             ...\n",
            "143            There are no Filings for this citation.               2\n",
            "144                                 Negative Treatment               1\n",
            "145  There are no Negative Treatment results for th...               2\n",
            "146                                            History               1\n",
            "147    There are no History results for this citation.               2\n",
            "\n",
            "[148 rows x 2 columns]\n",
            "                                               column1  ...  Word_count\n",
            "0                                           5 Ala. 740  ...           3\n",
            "1                            Supreme Court of Alabama.  ...           4\n",
            "2                                                ADAMS  ...           1\n",
            "3                                                   v.  ...           1\n",
            "4                                   TANNER AND HORTON.  ...           3\n",
            "..                                                 ...  ...         ...\n",
            "143            There are no Filings for this citation.  ...           7\n",
            "144                                 Negative Treatment  ...           2\n",
            "145  There are no Negative Treatment results for th...  ...           9\n",
            "146                                            History  ...           1\n",
            "147    There are no History results for this citation.  ...           8\n",
            "\n",
            "[148 rows x 3 columns]\n",
            "                                               column1  ...  Characters_count\n",
            "0                                           5 Ala. 740  ...                10\n",
            "1                            Supreme Court of Alabama.  ...                25\n",
            "2                                                ADAMS  ...                 5\n",
            "3                                                   v.  ...                 2\n",
            "4                                   TANNER AND HORTON.  ...                18\n",
            "..                                                 ...  ...               ...\n",
            "143            There are no Filings for this citation.  ...                39\n",
            "144                                 Negative Treatment  ...                18\n",
            "145  There are no Negative Treatment results for th...  ...                58\n",
            "146                                            History  ...                 7\n",
            "147    There are no History results for this citation.  ...                47\n",
            "\n",
            "[148 rows x 4 columns]\n",
            "                                               column1  ...  AvgWord_count\n",
            "0                                           5 Ala. 740  ...       2.666667\n",
            "1                            Supreme Court of Alabama.  ...       5.500000\n",
            "2                                                ADAMS  ...       5.000000\n",
            "3                                                   v.  ...       2.000000\n",
            "4                                   TANNER AND HORTON.  ...       5.333333\n",
            "..                                                 ...  ...            ...\n",
            "143            There are no Filings for this citation.  ...       4.714286\n",
            "144                                 Negative Treatment  ...       8.500000\n",
            "145  There are no Negative Treatment results for th...  ...       5.555556\n",
            "146                                            History  ...       7.000000\n",
            "147    There are no History results for this citation.  ...       5.000000\n",
            "\n",
            "[148 rows x 5 columns]\n",
            "[nltk_data] Downloading package stopwords to /root/nltk_data...\n",
            "[nltk_data]   Package stopwords is already up-to-date!\n",
            "                                               column1  ...  stopwords\n",
            "0                                           5 Ala. 740  ...          0\n",
            "1                            Supreme Court of Alabama.  ...          1\n",
            "2                                                ADAMS  ...          0\n",
            "3                                                   v.  ...          0\n",
            "4                                   TANNER AND HORTON.  ...          0\n",
            "..                                                 ...  ...        ...\n",
            "143            There are no Filings for this citation.  ...          4\n",
            "144                                 Negative Treatment  ...          0\n",
            "145  There are no Negative Treatment results for th...  ...          4\n",
            "146                                            History  ...          0\n",
            "147    There are no History results for this citation.  ...          4\n",
            "\n",
            "[148 rows x 6 columns]\n",
            "                                               column1  ...  Special characters\n",
            "0                                           5 Ala. 740  ...                   0\n",
            "1                            Supreme Court of Alabama.  ...                   0\n",
            "2                                                ADAMS  ...                   0\n",
            "3                                                   v.  ...                   0\n",
            "4                                   TANNER AND HORTON.  ...                   0\n",
            "..                                                 ...  ...                 ...\n",
            "143            There are no Filings for this citation.  ...                   0\n",
            "144                                 Negative Treatment  ...                   0\n",
            "145  There are no Negative Treatment results for th...  ...                   0\n",
            "146                                            History  ...                   0\n",
            "147    There are no History results for this citation.  ...                   0\n",
            "\n",
            "[148 rows x 7 columns]\n",
            "                                               column1  ...  Numerics\n",
            "0                                           5 Ala. 740  ...         2\n",
            "1                            Supreme Court of Alabama.  ...         0\n",
            "2                                                ADAMS  ...         0\n",
            "3                                                   v.  ...         0\n",
            "4                                   TANNER AND HORTON.  ...         0\n",
            "..                                                 ...  ...       ...\n",
            "143            There are no Filings for this citation.  ...         0\n",
            "144                                 Negative Treatment  ...         0\n",
            "145  There are no Negative Treatment results for th...  ...         0\n",
            "146                                            History  ...         0\n",
            "147    There are no History results for this citation.  ...         0\n",
            "\n",
            "[148 rows x 8 columns]\n",
            "                                               column1  ...  Uppercase words\n",
            "0                                           5 Ala. 740  ...                0\n",
            "1                            Supreme Court of Alabama.  ...                0\n",
            "2                                                ADAMS  ...                1\n",
            "3                                                   v.  ...                0\n",
            "4                                   TANNER AND HORTON.  ...                3\n",
            "..                                                 ...  ...              ...\n",
            "143            There are no Filings for this citation.  ...                0\n",
            "144                                 Negative Treatment  ...                0\n",
            "145  There are no Negative Treatment results for th...  ...                0\n",
            "146                                            History  ...                0\n",
            "147    There are no History results for this citation.  ...                0\n",
            "\n",
            "[148 rows x 9 columns]\n"
          ],
          "name": "stdout"
        }
      ]
    },
    {
      "cell_type": "code",
      "metadata": {
        "colab": {
          "base_uri": "https://localhost:8080/"
        },
        "id": "wJDEX4ECnef-",
        "outputId": "ebcf9555-64e4-47fa-8d9c-fd6817adb297"
      },
      "source": [
        "#1.2\r\n",
        "import pandas as pd\r\n",
        "from pandas import DataFrame\r\n",
        "url='https://raw.githubusercontent.com/unt-iialab/info5731_spring2021/main/class_exercises/01-05-1%20%20Adams%20v%20Tanner.txt'\r\n",
        "data = pd.read_csv(url,sep='\\n',header=None)\r\n",
        "data.columns = [\"column1\"]\r\n",
        "#Lower casing\r\n",
        "data['column1']=data['column1'].apply(lambda x: \" \".join(x.lower() for x in x.split()))\r\n",
        "#Puntuation removal\r\n",
        "data['column1']=data['column1'].str.replace('^[.,?;!:''()[]\"\"-_/@{}*]','')\r\n",
        "#Stopwords removal\r\n",
        "from nltk.corpus import stopwords\r\n",
        "import nltk\r\n",
        "nltk.download('stopwords')\r\n",
        "stop=stopwords.words('english') \r\n",
        "data['column1']=data['column1'].apply(lambda x: \" \".join(x for x in x.split() if x not in stop))\r\n",
        "#Frequent word removal\r\n",
        "freq=pd.Series(' '.join(data['column1']).split()).value_counts()[:15]\r\n",
        "freq==list(freq.index)\r\n",
        "data['column1']=data['column1'].apply(lambda x: \" \".join(x for x in x.split() if x not in freq))\r\n",
        "#Rare words removal\r\n",
        "freq=pd.Series(' '.join(data['column1']).split()).value_counts()[-15:0]\r\n",
        "freq==list(freq.index)\r\n",
        "data['column1']=data['column1'].apply(lambda x: \" \".join(x for x in x.split() if x not in freq))\r\n",
        "#Spelling correction\r\n",
        "from textblob import TextBlob\r\n",
        "data['column1'].apply(lambda x: str(TextBlob(x).correct()))\r\n",
        "#Tokenization\r\n",
        "nltk.download('punkt')\r\n",
        "data['Tokanization']=data['column1'].apply(lambda x: TextBlob(x).words)\r\n",
        "#stemming\r\n",
        "from nltk.stem import PorterStemmer\r\n",
        "st=PorterStemmer()\r\n",
        "data['Stemming']=data['column1'].apply(lambda x: \" \".join([st.stem(word) for word in x.split()]))\r\n",
        "#Lemmatization\r\n",
        "from textblob import Word\r\n",
        "nltk.download('wordnet')\r\n",
        "data['lemmatization']=data['column1'].apply(lambda x: \" \".join([Word(word).lemmatize() for word in x.split()]))\r\n",
        "df = pd.DataFrame(data)\r\n",
        "df.to_csv(\"Datacleaning.csv\")"
      ],
      "execution_count": 39,
      "outputs": [
        {
          "output_type": "stream",
          "text": [
            "[nltk_data] Downloading package stopwords to /root/nltk_data...\n",
            "[nltk_data]   Package stopwords is already up-to-date!\n",
            "[nltk_data] Downloading package punkt to /root/nltk_data...\n",
            "[nltk_data]   Package punkt is already up-to-date!\n",
            "[nltk_data] Downloading package wordnet to /root/nltk_data...\n",
            "[nltk_data]   Package wordnet is already up-to-date!\n"
          ],
          "name": "stdout"
        }
      ]
    },
    {
      "cell_type": "markdown",
      "metadata": {
        "id": "BBiC4E_kefvV"
      },
      "source": [
        "# 2. Python Regular Expression"
      ]
    },
    {
      "cell_type": "markdown",
      "metadata": {
        "id": "Z1QJ-UwCenvN"
      },
      "source": [
        "## 2.1 Write a Python program to remove leading zeros from an IP address. (4 points)\n",
        "\n",
        "ip = \"260.08.094.109\""
      ]
    },
    {
      "cell_type": "code",
      "metadata": {
        "id": "wSv6fVhOfFmv",
        "colab": {
          "base_uri": "https://localhost:8080/"
        },
        "outputId": "32a71d56-a2d2-4f4a-fbe8-93623370fce4"
      },
      "source": [
        "ip=\"260.08.094.109\"\n",
        "l=ip.split(\".\")\n",
        "op=\"\"\n",
        "for sp in l:\n",
        "  x=sp.lstrip(\"0\")\n",
        "  if op is \"\":\n",
        "    op=x\n",
        "  else:\n",
        "    op=op+\".\"+x\n",
        "print(op)"
      ],
      "execution_count": null,
      "outputs": [
        {
          "output_type": "stream",
          "text": [
            "260.8.94.109\n"
          ],
          "name": "stdout"
        }
      ]
    },
    {
      "cell_type": "markdown",
      "metadata": {
        "id": "PXRjaHzrfKAy"
      },
      "source": [
        "## 2.2 Write a Python Program to extract all the years from the following sentence. (4 points)\n",
        "\n",
        "sentence = \"The 2010s were a dramatic decade, filled with ups and downs, more than 1000 stroies have happened. As the decade comes to a close, Insider took a look back at some of the biggest headline-grabbing stories, from 2010 to 2019. The result was 119 news stories that ranged from the heartwarming rescue of a Thai boys' soccer team from a flooded cave to the divisive election of President Donald Trump.\""
      ]
    },
    {
      "cell_type": "code",
      "metadata": {
        "id": "7xdJpDx9gjbX",
        "colab": {
          "base_uri": "https://localhost:8080/"
        },
        "outputId": "58897e34-4a2d-4cea-af82-67bbf17e4586"
      },
      "source": [
        "import re\r\n",
        "sentenc1 = \"The 2010s were a dramatic decade, filled with ups and downs, more than 1000 stroies have happened. As the decade comes to a close, Insider took a look back at some of the biggest headline-grabbing stories, from 2010 to 2019. The result was 119 news stories that ranged from the heartwarming rescue of a Thai boys' soccer team from a flooded cave to the divisive election of President Donald Trump.\"\r\n",
        "yr=re.findall('2\\d{3}',sentenc1)\r\n",
        "print(yr)"
      ],
      "execution_count": 41,
      "outputs": [
        {
          "output_type": "stream",
          "text": [
            "['2010', '2010', '2019']\n"
          ],
          "name": "stdout"
        }
      ]
    }
  ]
}